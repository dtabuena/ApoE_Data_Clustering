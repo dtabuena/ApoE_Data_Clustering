{
  "nbformat": 4,
  "nbformat_minor": 0,
  "metadata": {
    "colab": {
      "provenance": [],
      "authorship_tag": "ABX9TyPPo+S3cjHh59/FrUGoFUNN",
      "include_colab_link": true
    },
    "kernelspec": {
      "name": "python3",
      "display_name": "Python 3"
    },
    "language_info": {
      "name": "python"
    }
  },
  "cells": [
    {
      "cell_type": "markdown",
      "metadata": {
        "id": "view-in-github",
        "colab_type": "text"
      },
      "source": [
        "<a href=\"https://colab.research.google.com/github/dtabuena/Data_Explore/blob/main/Cluster_CA3.ipynb\" target=\"_parent\"><img src=\"https://colab.research.google.com/assets/colab-badge.svg\" alt=\"Open In Colab\"/></a>"
      ]
    },
    {
      "cell_type": "code",
      "source": [
        "!pip install openpyxl\n",
        "!pip install XlsxWriter\n",
        "!pip install umap-learn\n",
        "!pip install pingouin"
      ],
      "metadata": {
        "colab": {
          "base_uri": "https://localhost:8080/"
        },
        "id": "DQaaMuGK_Y6z",
        "outputId": "7bee60c8-8b22-4e64-a04d-945537c20798"
      },
      "execution_count": null,
      "outputs": [
        {
          "output_type": "stream",
          "name": "stdout",
          "text": [
            "Looking in indexes: https://pypi.org/simple, https://us-python.pkg.dev/colab-wheels/public/simple/\n",
            "Requirement already satisfied: openpyxl in /usr/local/lib/python3.7/dist-packages (3.0.10)\n",
            "Requirement already satisfied: et-xmlfile in /usr/local/lib/python3.7/dist-packages (from openpyxl) (1.1.0)\n",
            "Looking in indexes: https://pypi.org/simple, https://us-python.pkg.dev/colab-wheels/public/simple/\n",
            "Requirement already satisfied: XlsxWriter in /usr/local/lib/python3.7/dist-packages (3.0.3)\n",
            "Looking in indexes: https://pypi.org/simple, https://us-python.pkg.dev/colab-wheels/public/simple/\n",
            "Requirement already satisfied: umap-learn in /usr/local/lib/python3.7/dist-packages (0.5.3)\n",
            "Requirement already satisfied: numpy>=1.17 in /usr/local/lib/python3.7/dist-packages (from umap-learn) (1.21.6)\n",
            "Requirement already satisfied: scipy>=1.0 in /usr/local/lib/python3.7/dist-packages (from umap-learn) (1.7.3)\n",
            "Requirement already satisfied: pynndescent>=0.5 in /usr/local/lib/python3.7/dist-packages (from umap-learn) (0.5.7)\n",
            "Requirement already satisfied: numba>=0.49 in /usr/local/lib/python3.7/dist-packages (from umap-learn) (0.56.2)\n",
            "Requirement already satisfied: scikit-learn>=0.22 in /usr/local/lib/python3.7/dist-packages (from umap-learn) (1.0.2)\n",
            "Requirement already satisfied: tqdm in /usr/local/lib/python3.7/dist-packages (from umap-learn) (4.64.1)\n",
            "Requirement already satisfied: llvmlite<0.40,>=0.39.0dev0 in /usr/local/lib/python3.7/dist-packages (from numba>=0.49->umap-learn) (0.39.1)\n",
            "Requirement already satisfied: setuptools<60 in /usr/local/lib/python3.7/dist-packages (from numba>=0.49->umap-learn) (57.4.0)\n",
            "Requirement already satisfied: importlib-metadata in /usr/local/lib/python3.7/dist-packages (from numba>=0.49->umap-learn) (4.12.0)\n",
            "Requirement already satisfied: joblib>=0.11 in /usr/local/lib/python3.7/dist-packages (from pynndescent>=0.5->umap-learn) (1.1.0)\n",
            "Requirement already satisfied: threadpoolctl>=2.0.0 in /usr/local/lib/python3.7/dist-packages (from scikit-learn>=0.22->umap-learn) (3.1.0)\n",
            "Requirement already satisfied: zipp>=0.5 in /usr/local/lib/python3.7/dist-packages (from importlib-metadata->numba>=0.49->umap-learn) (3.8.1)\n",
            "Requirement already satisfied: typing-extensions>=3.6.4 in /usr/local/lib/python3.7/dist-packages (from importlib-metadata->numba>=0.49->umap-learn) (4.1.1)\n",
            "Looking in indexes: https://pypi.org/simple, https://us-python.pkg.dev/colab-wheels/public/simple/\n",
            "Requirement already satisfied: pingouin in /usr/local/lib/python3.7/dist-packages (0.5.2)\n",
            "Requirement already satisfied: seaborn>=0.11 in /usr/local/lib/python3.7/dist-packages (from pingouin) (0.11.2)\n",
            "Requirement already satisfied: pandas>=1.0 in /usr/local/lib/python3.7/dist-packages (from pingouin) (1.3.5)\n",
            "Requirement already satisfied: scipy>=1.7 in /usr/local/lib/python3.7/dist-packages (from pingouin) (1.7.3)\n",
            "Requirement already satisfied: statsmodels>=0.13 in /usr/local/lib/python3.7/dist-packages (from pingouin) (0.13.2)\n",
            "Requirement already satisfied: numpy>=1.19 in /usr/local/lib/python3.7/dist-packages (from pingouin) (1.21.6)\n",
            "Requirement already satisfied: outdated in /usr/local/lib/python3.7/dist-packages (from pingouin) (0.2.1)\n",
            "Requirement already satisfied: tabulate in /usr/local/lib/python3.7/dist-packages (from pingouin) (0.8.10)\n",
            "Requirement already satisfied: matplotlib>=3.0.2 in /usr/local/lib/python3.7/dist-packages (from pingouin) (3.2.2)\n",
            "Requirement already satisfied: scikit-learn<1.1.0 in /usr/local/lib/python3.7/dist-packages (from pingouin) (1.0.2)\n",
            "Requirement already satisfied: pandas-flavor>=0.2.0 in /usr/local/lib/python3.7/dist-packages (from pingouin) (0.2.0)\n",
            "Requirement already satisfied: cycler>=0.10 in /usr/local/lib/python3.7/dist-packages (from matplotlib>=3.0.2->pingouin) (0.11.0)\n",
            "Requirement already satisfied: python-dateutil>=2.1 in /usr/local/lib/python3.7/dist-packages (from matplotlib>=3.0.2->pingouin) (2.8.2)\n",
            "Requirement already satisfied: pyparsing!=2.0.4,!=2.1.2,!=2.1.6,>=2.0.1 in /usr/local/lib/python3.7/dist-packages (from matplotlib>=3.0.2->pingouin) (3.0.9)\n",
            "Requirement already satisfied: kiwisolver>=1.0.1 in /usr/local/lib/python3.7/dist-packages (from matplotlib>=3.0.2->pingouin) (1.4.4)\n",
            "Requirement already satisfied: typing-extensions in /usr/local/lib/python3.7/dist-packages (from kiwisolver>=1.0.1->matplotlib>=3.0.2->pingouin) (4.1.1)\n",
            "Requirement already satisfied: pytz>=2017.3 in /usr/local/lib/python3.7/dist-packages (from pandas>=1.0->pingouin) (2022.2.1)\n",
            "Requirement already satisfied: xarray in /usr/local/lib/python3.7/dist-packages (from pandas-flavor>=0.2.0->pingouin) (0.20.2)\n",
            "Requirement already satisfied: six>=1.5 in /usr/local/lib/python3.7/dist-packages (from python-dateutil>=2.1->matplotlib>=3.0.2->pingouin) (1.15.0)\n",
            "Requirement already satisfied: threadpoolctl>=2.0.0 in /usr/local/lib/python3.7/dist-packages (from scikit-learn<1.1.0->pingouin) (3.1.0)\n",
            "Requirement already satisfied: joblib>=0.11 in /usr/local/lib/python3.7/dist-packages (from scikit-learn<1.1.0->pingouin) (1.1.0)\n",
            "Requirement already satisfied: patsy>=0.5.2 in /usr/local/lib/python3.7/dist-packages (from statsmodels>=0.13->pingouin) (0.5.2)\n",
            "Requirement already satisfied: packaging>=21.3 in /usr/local/lib/python3.7/dist-packages (from statsmodels>=0.13->pingouin) (21.3)\n",
            "Requirement already satisfied: littleutils in /usr/local/lib/python3.7/dist-packages (from outdated->pingouin) (0.2.2)\n",
            "Requirement already satisfied: requests in /usr/local/lib/python3.7/dist-packages (from outdated->pingouin) (2.23.0)\n",
            "Requirement already satisfied: certifi>=2017.4.17 in /usr/local/lib/python3.7/dist-packages (from requests->outdated->pingouin) (2022.6.15)\n",
            "Requirement already satisfied: idna<3,>=2.5 in /usr/local/lib/python3.7/dist-packages (from requests->outdated->pingouin) (2.10)\n",
            "Requirement already satisfied: chardet<4,>=3.0.2 in /usr/local/lib/python3.7/dist-packages (from requests->outdated->pingouin) (3.0.4)\n",
            "Requirement already satisfied: urllib3!=1.25.0,!=1.25.1,<1.26,>=1.21.1 in /usr/local/lib/python3.7/dist-packages (from requests->outdated->pingouin) (1.24.3)\n",
            "Requirement already satisfied: importlib-metadata in /usr/local/lib/python3.7/dist-packages (from xarray->pandas-flavor>=0.2.0->pingouin) (4.12.0)\n",
            "Requirement already satisfied: zipp>=0.5 in /usr/local/lib/python3.7/dist-packages (from importlib-metadata->xarray->pandas-flavor>=0.2.0->pingouin) (3.8.1)\n"
          ]
        }
      ]
    },
    {
      "cell_type": "code",
      "source": [
        "plot_extras = True\n",
        "exclude_extras =True"
      ],
      "metadata": {
        "id": "uyERTTrN148o"
      },
      "execution_count": null,
      "outputs": []
    },
    {
      "cell_type": "code",
      "execution_count": null,
      "metadata": {
        "id": "sLPTsKPW3jXD"
      },
      "outputs": [],
      "source": [
        "import pandas as pd\n",
        "import os\n",
        "import numpy as np\n",
        "from sklearn.decomposition import PCA\n",
        "from matplotlib import pyplot as plt"
      ]
    },
    {
      "cell_type": "code",
      "source": [
        "link = 'https://www.dropbox.com/sh/5jheuv2n7pmfzw9/AABpo1PU8v33CR3CCxq3459ba?dl=0'\n",
        "my_drop_folder = 'my_drop_folder'\n",
        "zipped_file_path = \"/content/\"+my_drop_folder + \".zip\"\n",
        "unzipped_file_path = \"/content/\"+my_drop_folder\n",
        "if not( os.path.exists(zipped_file_path)):\n",
        "    !wget -O $zipped_file_path $link    # download with new name\n",
        "!echo A | unzip $zipped_file_path -d $unzipped_file_path \n",
        "print(unzipped_file_path)"
      ],
      "metadata": {
        "colab": {
          "base_uri": "https://localhost:8080/"
        },
        "id": "awtXrwqO7osa",
        "outputId": "56502783-6581-4478-c38a-8a378cc3b5bd"
      },
      "execution_count": null,
      "outputs": [
        {
          "output_type": "stream",
          "name": "stdout",
          "text": [
            "Archive:  /content/my_drop_folder.zip\n",
            "warning:  stripped absolute path spec from /\n",
            "mapname:  conversion of  failed\n",
            "replace /content/my_drop_folder/CA1 main parameters.xlsx? [y]es, [n]o, [A]ll, [N]one, [r]ename:  extracting: /content/my_drop_folder/CA1 main parameters.xlsx  \n",
            " extracting: /content/my_drop_folder/CA1 Clusters/Clusters.png  \n",
            " extracting: /content/my_drop_folder/CA3 parameters for PCA.xlsx  \n",
            " extracting: /content/my_drop_folder/CA1 Clusters/GenoType_dist.png  \n",
            " extracting: /content/my_drop_folder/CA1 Clusters/GenoType_Histos.png  \n",
            " extracting: /content/my_drop_folder/DG Type I GC main parameters.xlsx  \n",
            " extracting: /content/my_drop_folder/DG Type II GC main parameters.xlsx  \n",
            " extracting: /content/my_drop_folder/CA1 Clusters/Cells_in_Clusters.png  \n",
            " extracting: /content/my_drop_folder/CA1 Clusters/pairwise Age-Genotype.csv  \n",
            " extracting: /content/my_drop_folder/CA1 Clusters/Normalized_Vals_split.png  \n",
            " extracting: /content/my_drop_folder/CA1 Clusters/GenoType_dist_Separate.png  \n",
            " extracting: /content/my_drop_folder/CA1 Clusters/CrossVal_Data k=3 Centers.png  \n",
            " extracting: /content/my_drop_folder/CA1 Clusters/CrossVal_Data k=3 Labeling.png  \n",
            " extracting: /content/my_drop_folder/CA1 Clusters/CrossVal_Data k=2 Labeling.png  \n",
            "/content/my_drop_folder\n"
          ]
        }
      ]
    },
    {
      "cell_type": "code",
      "source": [
        "my_df_dict  = pd.read_excel('my_drop_folder/CA3 parameters for PCA.xlsx', engine='openpyxl',index_col=0,sheet_name=None)\n",
        "for k in my_df_dict.keys():\n",
        "    print(k)"
      ],
      "metadata": {
        "colab": {
          "base_uri": "https://localhost:8080/"
        },
        "id": "bb4rE0T94dH6",
        "outputId": "fd4bd7be-d753-4710-f329-acc3bda421fc"
      },
      "execution_count": null,
      "outputs": [
        {
          "output_type": "stream",
          "name": "stdout",
          "text": [
            "E4 9mo\n",
            "E3 9mo\n",
            "E4 19mo\n",
            "E3 19mo\n",
            "fE4 syncre+\n",
            "fE4 syncre-\n"
          ]
        }
      ]
    },
    {
      "cell_type": "code",
      "source": [
        "for k in my_df_dict.keys():\n",
        "    df = my_df_dict[k]\n",
        "    df['type'] = k\n",
        "df_list = [my_df_dict[k] for k in my_df_dict.keys()]\n",
        "full_df = pd.concat(df_list)"
      ],
      "metadata": {
        "id": "Eems_al4-2hy"
      },
      "execution_count": null,
      "outputs": []
    },
    {
      "cell_type": "code",
      "source": [
        "for r in full_df.index:\n",
        "    if full_df.loc[r,'AP amp'] <60:\n",
        "        full_df.at[r,'AP amp'] = np.nan"
      ],
      "metadata": {
        "id": "9MK824snXOsZ"
      },
      "execution_count": null,
      "outputs": []
    },
    {
      "cell_type": "code",
      "source": [
        "labeling = ['Cell','type','extra'] # non numerical data \n",
        "numericals = [c for c in full_df.columns if c not in labeling ]\n",
        "\n",
        "full_df_norm = full_df.copy()\n",
        "mean_dict = {}\n",
        "sd_dict = {}\n",
        "\n",
        "for c in full_df_norm.columns:\n",
        "    if c not in labeling:\n",
        "        col_mean = np.mean(full_df_norm[c])\n",
        "        col_sd = np.std(full_df_norm[c])\n",
        "        mean_dict[c] = col_mean\n",
        "        sd_dict[c] = col_sd\n",
        "        full_df_norm[c] = (full_df_norm[c] - col_mean)/col_sd\n",
        "\n",
        "\n",
        "null_check = pd.isna(full_df_norm)\n",
        "incomplete =[]\n",
        "for r in full_df_norm.index:\n",
        "    vals = np.array(null_check.loc[r,numericals])\n",
        "    bad = any(vals)\n",
        "    if bad:\n",
        "        incomplete.append(r)\n",
        "# print(incomplete)\n",
        "\n",
        "complete = [c for c in  full_df_norm.index if c not in incomplete]\n",
        "full_df_no_null = full_df_norm.loc[complete].copy()\n",
        "\n",
        "\n",
        "if exclude_extras:\n",
        "    is_extra = list(full_df_no_null['extra']==1)\n",
        "    extra_ind = full_df_no_null.index[is_extra]\n",
        "    full_df_no_null.drop( index =extra_ind, inplace=True)\n",
        "\n",
        "\n",
        "data_X = full_df_no_null[numericals].to_numpy()\n",
        "data_X.shape\n",
        "# pca = PCA(n_components=min(data_X.shape))\n",
        "# data_X_enc = pca.fit_transform(data_X)\n",
        "# plt.plot(1-np.cumsum(pca.explained_variance_ratio_))\n",
        "# pca = PCA(n_components=5)\n",
        "# data_X_enc = pca.fit_transform(data_X)\n",
        "# print(data_X_enc.shape)\n",
        "# print('Var exp:' ,sum(pca.explained_variance_ratio_))\n",
        "# data_X_reduced = pca.inverse_transform(data_X_enc)\n",
        "\n",
        "display(full_df_no_null.head())\n",
        "print('data_X.shape',data_X.shape)\n",
        "data_for_fit = data_X"
      ],
      "metadata": {
        "id": "bKFzx5NoCEs5",
        "colab": {
          "base_uri": "https://localhost:8080/",
          "height": 224
        },
        "outputId": "1e2d3223-02dc-4be3-fbf0-7bd8d60f045f"
      },
      "execution_count": null,
      "outputs": [
        {
          "output_type": "display_data",
          "data": {
            "text/plain": [
              "                   Cm       Rin       RMP  I-F Gain  Rheobase  Spike Latency  \\\n",
              "20200305-01 -1.104259  2.264200  0.394578  0.438485 -1.227478      -1.790853   \n",
              "20200305-06 -0.667117  2.259204 -1.054464  0.748138 -1.227478      -1.430757   \n",
              "20200305-11 -1.650687  1.348011 -1.035645  1.367446 -0.852415      -0.867714   \n",
              "20200305-17 -0.651089  0.349899  0.902684 -0.114468  1.022898       1.075167   \n",
              "20200305-22 -0.696503  1.220578 -0.696908  0.173067 -0.627377      -0.533827   \n",
              "\n",
              "             Max Firing rate  AP threshold   fAHP(1)      sAHP  AP width  \\\n",
              "20200305-01         0.235614     -0.835380  0.103238 -0.968985  2.596801   \n",
              "20200305-06        -0.253616     -0.740452 -0.186964 -0.835297  2.694438   \n",
              "20200305-11         0.154076     -0.605151  0.193991 -0.402368 -0.168654   \n",
              "20200305-17        -0.416693      1.726084  2.300637  1.094688 -0.405647   \n",
              "20200305-22         0.235614      1.074537  0.938500 -0.190335  0.044507   \n",
              "\n",
              "               AP amp  Adaptation Ratio  AP rise time  extra    type  \n",
              "20200305-01  1.819227         -0.113208      0.820563    0.0  E4 9mo  \n",
              "20200305-06  1.561523         -0.281009      0.701092    0.0  E4 9mo  \n",
              "20200305-11  0.180924         -0.094036     -0.135436    0.0  E4 9mo  \n",
              "20200305-17 -0.705788         -0.438359      0.013748    0.0  E4 9mo  \n",
              "20200305-22 -0.498479         -0.364346     -0.091224    0.0  E4 9mo  "
            ],
            "text/html": [
              "\n",
              "  <div id=\"df-e6c63f3f-e916-4c00-928a-6ed6c91052a6\">\n",
              "    <div class=\"colab-df-container\">\n",
              "      <div>\n",
              "<style scoped>\n",
              "    .dataframe tbody tr th:only-of-type {\n",
              "        vertical-align: middle;\n",
              "    }\n",
              "\n",
              "    .dataframe tbody tr th {\n",
              "        vertical-align: top;\n",
              "    }\n",
              "\n",
              "    .dataframe thead th {\n",
              "        text-align: right;\n",
              "    }\n",
              "</style>\n",
              "<table border=\"1\" class=\"dataframe\">\n",
              "  <thead>\n",
              "    <tr style=\"text-align: right;\">\n",
              "      <th></th>\n",
              "      <th>Cm</th>\n",
              "      <th>Rin</th>\n",
              "      <th>RMP</th>\n",
              "      <th>I-F Gain</th>\n",
              "      <th>Rheobase</th>\n",
              "      <th>Spike Latency</th>\n",
              "      <th>Max Firing rate</th>\n",
              "      <th>AP threshold</th>\n",
              "      <th>fAHP(1)</th>\n",
              "      <th>sAHP</th>\n",
              "      <th>AP width</th>\n",
              "      <th>AP amp</th>\n",
              "      <th>Adaptation Ratio</th>\n",
              "      <th>AP rise time</th>\n",
              "      <th>extra</th>\n",
              "      <th>type</th>\n",
              "    </tr>\n",
              "  </thead>\n",
              "  <tbody>\n",
              "    <tr>\n",
              "      <th>20200305-01</th>\n",
              "      <td>-1.104259</td>\n",
              "      <td>2.264200</td>\n",
              "      <td>0.394578</td>\n",
              "      <td>0.438485</td>\n",
              "      <td>-1.227478</td>\n",
              "      <td>-1.790853</td>\n",
              "      <td>0.235614</td>\n",
              "      <td>-0.835380</td>\n",
              "      <td>0.103238</td>\n",
              "      <td>-0.968985</td>\n",
              "      <td>2.596801</td>\n",
              "      <td>1.819227</td>\n",
              "      <td>-0.113208</td>\n",
              "      <td>0.820563</td>\n",
              "      <td>0.0</td>\n",
              "      <td>E4 9mo</td>\n",
              "    </tr>\n",
              "    <tr>\n",
              "      <th>20200305-06</th>\n",
              "      <td>-0.667117</td>\n",
              "      <td>2.259204</td>\n",
              "      <td>-1.054464</td>\n",
              "      <td>0.748138</td>\n",
              "      <td>-1.227478</td>\n",
              "      <td>-1.430757</td>\n",
              "      <td>-0.253616</td>\n",
              "      <td>-0.740452</td>\n",
              "      <td>-0.186964</td>\n",
              "      <td>-0.835297</td>\n",
              "      <td>2.694438</td>\n",
              "      <td>1.561523</td>\n",
              "      <td>-0.281009</td>\n",
              "      <td>0.701092</td>\n",
              "      <td>0.0</td>\n",
              "      <td>E4 9mo</td>\n",
              "    </tr>\n",
              "    <tr>\n",
              "      <th>20200305-11</th>\n",
              "      <td>-1.650687</td>\n",
              "      <td>1.348011</td>\n",
              "      <td>-1.035645</td>\n",
              "      <td>1.367446</td>\n",
              "      <td>-0.852415</td>\n",
              "      <td>-0.867714</td>\n",
              "      <td>0.154076</td>\n",
              "      <td>-0.605151</td>\n",
              "      <td>0.193991</td>\n",
              "      <td>-0.402368</td>\n",
              "      <td>-0.168654</td>\n",
              "      <td>0.180924</td>\n",
              "      <td>-0.094036</td>\n",
              "      <td>-0.135436</td>\n",
              "      <td>0.0</td>\n",
              "      <td>E4 9mo</td>\n",
              "    </tr>\n",
              "    <tr>\n",
              "      <th>20200305-17</th>\n",
              "      <td>-0.651089</td>\n",
              "      <td>0.349899</td>\n",
              "      <td>0.902684</td>\n",
              "      <td>-0.114468</td>\n",
              "      <td>1.022898</td>\n",
              "      <td>1.075167</td>\n",
              "      <td>-0.416693</td>\n",
              "      <td>1.726084</td>\n",
              "      <td>2.300637</td>\n",
              "      <td>1.094688</td>\n",
              "      <td>-0.405647</td>\n",
              "      <td>-0.705788</td>\n",
              "      <td>-0.438359</td>\n",
              "      <td>0.013748</td>\n",
              "      <td>0.0</td>\n",
              "      <td>E4 9mo</td>\n",
              "    </tr>\n",
              "    <tr>\n",
              "      <th>20200305-22</th>\n",
              "      <td>-0.696503</td>\n",
              "      <td>1.220578</td>\n",
              "      <td>-0.696908</td>\n",
              "      <td>0.173067</td>\n",
              "      <td>-0.627377</td>\n",
              "      <td>-0.533827</td>\n",
              "      <td>0.235614</td>\n",
              "      <td>1.074537</td>\n",
              "      <td>0.938500</td>\n",
              "      <td>-0.190335</td>\n",
              "      <td>0.044507</td>\n",
              "      <td>-0.498479</td>\n",
              "      <td>-0.364346</td>\n",
              "      <td>-0.091224</td>\n",
              "      <td>0.0</td>\n",
              "      <td>E4 9mo</td>\n",
              "    </tr>\n",
              "  </tbody>\n",
              "</table>\n",
              "</div>\n",
              "      <button class=\"colab-df-convert\" onclick=\"convertToInteractive('df-e6c63f3f-e916-4c00-928a-6ed6c91052a6')\"\n",
              "              title=\"Convert this dataframe to an interactive table.\"\n",
              "              style=\"display:none;\">\n",
              "        \n",
              "  <svg xmlns=\"http://www.w3.org/2000/svg\" height=\"24px\"viewBox=\"0 0 24 24\"\n",
              "       width=\"24px\">\n",
              "    <path d=\"M0 0h24v24H0V0z\" fill=\"none\"/>\n",
              "    <path d=\"M18.56 5.44l.94 2.06.94-2.06 2.06-.94-2.06-.94-.94-2.06-.94 2.06-2.06.94zm-11 1L8.5 8.5l.94-2.06 2.06-.94-2.06-.94L8.5 2.5l-.94 2.06-2.06.94zm10 10l.94 2.06.94-2.06 2.06-.94-2.06-.94-.94-2.06-.94 2.06-2.06.94z\"/><path d=\"M17.41 7.96l-1.37-1.37c-.4-.4-.92-.59-1.43-.59-.52 0-1.04.2-1.43.59L10.3 9.45l-7.72 7.72c-.78.78-.78 2.05 0 2.83L4 21.41c.39.39.9.59 1.41.59.51 0 1.02-.2 1.41-.59l7.78-7.78 2.81-2.81c.8-.78.8-2.07 0-2.86zM5.41 20L4 18.59l7.72-7.72 1.47 1.35L5.41 20z\"/>\n",
              "  </svg>\n",
              "      </button>\n",
              "      \n",
              "  <style>\n",
              "    .colab-df-container {\n",
              "      display:flex;\n",
              "      flex-wrap:wrap;\n",
              "      gap: 12px;\n",
              "    }\n",
              "\n",
              "    .colab-df-convert {\n",
              "      background-color: #E8F0FE;\n",
              "      border: none;\n",
              "      border-radius: 50%;\n",
              "      cursor: pointer;\n",
              "      display: none;\n",
              "      fill: #1967D2;\n",
              "      height: 32px;\n",
              "      padding: 0 0 0 0;\n",
              "      width: 32px;\n",
              "    }\n",
              "\n",
              "    .colab-df-convert:hover {\n",
              "      background-color: #E2EBFA;\n",
              "      box-shadow: 0px 1px 2px rgba(60, 64, 67, 0.3), 0px 1px 3px 1px rgba(60, 64, 67, 0.15);\n",
              "      fill: #174EA6;\n",
              "    }\n",
              "\n",
              "    [theme=dark] .colab-df-convert {\n",
              "      background-color: #3B4455;\n",
              "      fill: #D2E3FC;\n",
              "    }\n",
              "\n",
              "    [theme=dark] .colab-df-convert:hover {\n",
              "      background-color: #434B5C;\n",
              "      box-shadow: 0px 1px 3px 1px rgba(0, 0, 0, 0.15);\n",
              "      filter: drop-shadow(0px 1px 2px rgba(0, 0, 0, 0.3));\n",
              "      fill: #FFFFFF;\n",
              "    }\n",
              "  </style>\n",
              "\n",
              "      <script>\n",
              "        const buttonEl =\n",
              "          document.querySelector('#df-e6c63f3f-e916-4c00-928a-6ed6c91052a6 button.colab-df-convert');\n",
              "        buttonEl.style.display =\n",
              "          google.colab.kernel.accessAllowed ? 'block' : 'none';\n",
              "\n",
              "        async function convertToInteractive(key) {\n",
              "          const element = document.querySelector('#df-e6c63f3f-e916-4c00-928a-6ed6c91052a6');\n",
              "          const dataTable =\n",
              "            await google.colab.kernel.invokeFunction('convertToInteractive',\n",
              "                                                     [key], {});\n",
              "          if (!dataTable) return;\n",
              "\n",
              "          const docLinkHtml = 'Like what you see? Visit the ' +\n",
              "            '<a target=\"_blank\" href=https://colab.research.google.com/notebooks/data_table.ipynb>data table notebook</a>'\n",
              "            + ' to learn more about interactive tables.';\n",
              "          element.innerHTML = '';\n",
              "          dataTable['output_type'] = 'display_data';\n",
              "          await google.colab.output.renderOutput(dataTable, element);\n",
              "          const docLink = document.createElement('div');\n",
              "          docLink.innerHTML = docLinkHtml;\n",
              "          element.appendChild(docLink);\n",
              "        }\n",
              "      </script>\n",
              "    </div>\n",
              "  </div>\n",
              "  "
            ]
          },
          "metadata": {}
        },
        {
          "output_type": "stream",
          "name": "stdout",
          "text": [
            "data_X.shape (136, 14)\n"
          ]
        }
      ]
    },
    {
      "cell_type": "code",
      "source": [],
      "metadata": {
        "id": "owthZuLeD9Rb"
      },
      "execution_count": null,
      "outputs": []
    },
    {
      "cell_type": "code",
      "source": [
        "\n",
        "\n",
        "type_list = list(full_df_no_null['type'])\n",
        "uniq_types = list(set(type_list))\n",
        "uniq_types.sort()\n",
        "print(uniq_types)\n",
        "num_t = len(uniq_types)\n",
        "type_num = [ uniq_types.index(t) for t in type_list]\n",
        "\n",
        "colors = plt.cm.viridis(np.linspace(0,1,num_t))\n",
        "alpha = .4\n",
        "colors = [[0, 0, 0, 1], [0, 0, 0, alpha],\n",
        "          [1, 0, 1, 1], [1, 0, 1, alpha], \n",
        "          [0, .8, .8, 1], [0, .8, .8, alpha]]\n",
        "\n",
        "list_colors = [colors[i] for i in type_num ]\n",
        "\n",
        "fig_opt = {'dpi': 300, 'format':'png','bbox_inches':'tight'}"
      ],
      "metadata": {
        "colab": {
          "base_uri": "https://localhost:8080/"
        },
        "id": "5M-cWnCuEvsW",
        "outputId": "4103dfdc-7fa5-4ff9-ae52-8e49d62e825e"
      },
      "execution_count": null,
      "outputs": [
        {
          "output_type": "stream",
          "name": "stdout",
          "text": [
            "['E3 19mo', 'E3 9mo', 'E4 19mo', 'E4 9mo', 'fE4 syncre+', 'fE4 syncre-']\n"
          ]
        }
      ]
    },
    {
      "cell_type": "code",
      "source": [
        "### raw_data_map \n",
        "counts = [np.sum( [tt==t for tt in type_list]) for t in uniq_types ]\n",
        "fig, ax = plt.subplots(1,num_t,figsize = [15,3],gridspec_kw={'width_ratios': counts})\n",
        "\n",
        "\n",
        "data_X_min = np.min(data_for_fit)\n",
        "data_X_max = np.max(data_for_fit)\n",
        "\n",
        "for ti in range(num_t):\n",
        "    t = uniq_types[ti]\n",
        "    t_colr = colors[ti]\n",
        "    is_type = [ind for ind in range(len(type_num)) if type_num[ind]==ti]\n",
        "\n",
        "    ax[ti].pcolor(data_for_fit.T[:,is_type], vmin=data_X_min, vmax=data_X_max)\n",
        "    ax[ti].set_yticks(np.arange(len(numericals))+0.5)\n",
        "    if ti ==0 : ax[ti].set_yticklabels(numericals,rotation=0)\n",
        "    else:  ax[ti].get_yaxis().set_visible(False)\n",
        "    ax[ti].set_xlabel('Cell N')\n",
        "    ax[ti].title.set_text(t)\n",
        "    # plt.clim(data_X_min,data_X_max) \n",
        "\n",
        "\n",
        "    start = min(is_type)+3 / len(is_type)\n",
        "    stop = max(is_type)-3 / len(is_type)\n",
        "\n",
        "    # ax[ti].plot([start, stop], [0.1, 0.1,], transform=ax[ti].transAxes,color = 'k')\n",
        "\n",
        "plt.show()\n",
        "fig.savefig('Normalized_Vals_split.'+fig_opt['format'],**fig_opt)"
      ],
      "metadata": {
        "colab": {
          "base_uri": "https://localhost:8080/",
          "height": 241
        },
        "id": "FTOwN3SHbWUV",
        "outputId": "fb80c62d-fadf-49bc-efc0-0d9902567182"
      },
      "execution_count": null,
      "outputs": [
        {
          "output_type": "display_data",
          "data": {
            "text/plain": [
              "<Figure size 1080x216 with 6 Axes>"
            ],
            "image/png": "[encoded data removed]"
          },
          "metadata": {
            "needs_background": "light"
          }
        }
      ]
    },
    {
      "cell_type": "code",
      "source": [
        "### use knn to define umap regions ###"
      ],
      "metadata": {
        "id": "LJ6l_Tsoc6Dz"
      },
      "execution_count": null,
      "outputs": []
    },
    {
      "cell_type": "code",
      "source": [
        "# total_D = np.tile(np.sum(distances,axis=1),[2,1]).T"
      ],
      "metadata": {
        "id": "Xz2TBT-eMVUl"
      },
      "execution_count": null,
      "outputs": []
    },
    {
      "cell_type": "code",
      "source": [
        "from sklearn.cluster import KMeans\n",
        "\n",
        "\n",
        "\n",
        "\n",
        "kmeans = KMeans(n_clusters=2, random_state=42).fit(data_for_fit)\n",
        "centers = kmeans.cluster_centers_.T\n",
        "distances = kmeans.transform(data_for_fit)\n",
        "\n",
        "rel_centers = (centers.T - np.mean(centers.T,axis = 0)).T\n",
        "\n",
        "new_cent_order = np.argsort(centers[:,0]).tolist()\n",
        "fig, ax = plt.subplots(1,2,figsize = [9,3], gridspec_kw={'width_ratios': [2, 1]} )\n",
        "ax[0].plot(rel_centers[new_cent_order,:],'-o')\n",
        "ax[0].legend(['Type_1', 'Type_2'])\n",
        "sorted_numericals = [numericals[i] for i in new_cent_order]\n",
        "ax[0].set_xticks(np.arange(len(numericals)))\n",
        "ax[0].set_xticklabels(sorted_numericals,rotation=90)\n",
        "ax[0].set_ylabel('Relative Amp')\n",
        "labels = kmeans.labels_ \n",
        "rel_counts = [np.mean( l == labels ) for l in range(2)]\n",
        "# print(counts)\n",
        "ax[1].pie( rel_counts, labels=['Type_1 '+str(round(rel_counts[0]*100))+'%', 'Type_2 '+str(round(rel_counts[1]*100))+'%']  )\n",
        "fig.savefig('Clusters.'+fig_opt['format'],**fig_opt)\n",
        "\n",
        "\n",
        "total_D = np.tile(np.sum(distances,axis=1),[2,1]).T\n",
        "closeness = np.log(total_D/distances)\n",
        "closeness = (closeness - np.mean(closeness,axis=0)) / (np.std(closeness,axis=0))  \n",
        "distances_norm = (distances - np.mean(distances,axis=0)) / (np.std(distances,axis=0))\n",
        "\n",
        "fig, ax = plt.subplots(1,figsize = [15,3])\n",
        "c = ax.pcolor(closeness.T)\n",
        "ax.set_xlabel('Cell')\n",
        "ax.set_yticks(np.arange(2)+0.5)\n",
        "ax.set_yticklabels(['Type_1', 'Type_2'])\n",
        "ax.title.set_text('Similarity')\n",
        "fig.colorbar(c, ax=ax)\n",
        "fig.savefig('Cells_in_Clusters.'+fig_opt['format'],**fig_opt)\n",
        "\n",
        "fig, ax = plt.subplots(1,figsize = [8,8])\n",
        "for ti in range(num_t):\n",
        "    t = uniq_types[ti]\n",
        "    t_colr = colors[ti]\n",
        "    is_type = [ind for ind in range(len(type_num)) if type_num[ind]==ti]\n",
        "    ax.scatter(distances_norm[is_type,0],distances_norm[is_type,1],color=t_colr, label=t)\n",
        "ax.legend()\n",
        "# ax.legend(loc='center left', bbox_to_anchor=(1, 0.5))\n",
        "ax.set_xlabel('Dist From Type_1')\n",
        "ax.set_ylabel('Dist From Type_2')\n",
        "ax.plot([0, 1], [0, 1], transform=ax.transAxes)\n",
        "comb_xlim = ax.get_xlim()\n",
        "comb_ylim = ax.get_ylim()\n",
        "fig.savefig('GenoType_dist.'+fig_opt['format'],**fig_opt)\n",
        "\n",
        "#### separate #####\n",
        "fig, axs = plt.subplots(2,3,figsize = [15,10])\n",
        "axs = axs.T.flatten()\n",
        "for ti in range(num_t):\n",
        "    t = uniq_types[ti]\n",
        "    t_colr = colors[ti]\n",
        "    is_type = [ind for ind in range(len(type_num)) if type_num[ind]==ti]\n",
        "    axs[ti].scatter(distances_norm[is_type,0],distances_norm[is_type,1],color=t_colr, label=t)\n",
        "    axs[ti].set_xlabel('Dist From Type_1')\n",
        "    axs[ti].set_ylabel('Dist From Type_2')\n",
        "    axs[ti].plot([0, 1], [0, 1], transform=axs[ti].transAxes)\n",
        "    axs[ti].title.set_text(t)\n",
        "    axs[ti].set_xlim(comb_xlim)\n",
        "    axs[ti].set_ylim(comb_ylim)\n",
        "\n",
        "    if plot_extras:\n",
        "        is_extra = list(full_df_no_null['extra']==1)\n",
        "        is_extra_ind = [i for i in range(len(is_extra)) if is_extra[i] ]\n",
        "        both = [i for i in is_type if i in is_extra_ind]\n",
        "        axs[ti].scatter(distances_norm[both,0],distances_norm[both,1],color=t_colr, label=t,marker='x',s=400)\n",
        "\n",
        "fig.savefig('GenoType_dist_Separate.'+fig_opt['format'],**fig_opt)\n",
        "\n",
        "\n",
        "\n",
        "\n",
        "#### separate #####\n",
        "fig, axs = plt.subplots(2,3,figsize = [15,10])\n",
        "axs = axs.T.flatten()\n",
        "for ti in range(num_t):\n",
        "    t = uniq_types[ti]\n",
        "    t_colr = colors[ti]\n",
        "    is_type = [ind for ind in range(len(type_num)) if type_num[ind]==ti]\n",
        "\n",
        "    score = closeness[:,1] - closeness[:,0]\n",
        "\n",
        "    axs[ti].hist(score[is_type],10,color=t_colr,histtype='bar',density=True,range=(-3.25,3.25))\n",
        "    axs[ti].title.set_text(t)\n",
        "    axs[ti].axvline(0, color='k') # vertical\n",
        "    axs[ti].set_ylim(0,0.65)\n",
        "    axs[ti].set_ylabel('PDF')\n",
        "    axs[ti].text(.8, .9, 'Type 2',transform=axs[ti].transAxes)\n",
        "    axs[ti].text(.05, .9, 'Type 1',transform=axs[ti].transAxes)\n",
        "\n",
        "    if plot_extras:\n",
        "        is_extra = list(full_df_no_null['extra']==1)\n",
        "        is_extra_ind = [i for i in range(len(is_extra)) if is_extra[i] ]\n",
        "        both = [i for i in is_type if i in is_extra_ind]\n",
        "        axs[ti].hist(score[both],10,color=t_colr,histtype='step',density=True,range=(-3.25,3.25))\n",
        "\n",
        "fig.savefig('GenoType_Histos.'+fig_opt['format'],**fig_opt)\n",
        "\n",
        "\n"
      ],
      "metadata": {
        "colab": {
          "base_uri": "https://localhost:8080/",
          "height": 1000
        },
        "id": "X9ROxa84LUNq",
        "outputId": "7244fb52-254f-4d6a-bd63-a1e2d2d776f5"
      },
      "execution_count": null,
      "outputs": [
        {
          "output_type": "stream",
          "name": "stderr",
          "text": [
            "/usr/local/lib/python3.7/dist-packages/numpy/lib/histograms.py:906: RuntimeWarning: invalid value encountered in true_divide\n",
            "  return n/db/n.sum(), bin_edges\n",
            "/usr/local/lib/python3.7/dist-packages/numpy/lib/histograms.py:906: RuntimeWarning: invalid value encountered in true_divide\n",
            "  return n/db/n.sum(), bin_edges\n",
            "/usr/local/lib/python3.7/dist-packages/numpy/lib/histograms.py:906: RuntimeWarning: invalid value encountered in true_divide\n",
            "  return n/db/n.sum(), bin_edges\n",
            "/usr/local/lib/python3.7/dist-packages/numpy/lib/histograms.py:906: RuntimeWarning: invalid value encountered in true_divide\n",
            "  return n/db/n.sum(), bin_edges\n",
            "/usr/local/lib/python3.7/dist-packages/numpy/lib/histograms.py:906: RuntimeWarning: invalid value encountered in true_divide\n",
            "  return n/db/n.sum(), bin_edges\n",
            "/usr/local/lib/python3.7/dist-packages/numpy/lib/histograms.py:906: RuntimeWarning: invalid value encountered in true_divide\n",
            "  return n/db/n.sum(), bin_edges\n"
          ]
        },
        {
          "output_type": "display_data",
          "data": {
            "text/plain": [
              "<Figure size 648x216 with 2 Axes>"
            ],
            "image/png": "[encoded data removed]"
          },
          "metadata": {
            "needs_background": "light"
          }
        },
        {
          "output_type": "display_data",
          "data": {
            "text/plain": [
              "<Figure size 1080x216 with 2 Axes>"
            ],
            "image/png": "[encoded data removed]"
          },
          "metadata": {
            "needs_background": "light"
          }
        },
        {
          "output_type": "display_data",
          "data": {
            "text/plain": [
              "<Figure size 576x576 with 1 Axes>"
            ],
            "image/png": "[encoded data removed]"
          },
          "metadata": {
            "needs_background": "light"
          }
        },
        {
          "output_type": "display_data",
          "data": {
            "text/plain": [
              "<Figure size 1080x720 with 6 Axes>"
            ],
            "image/png": "[encoded data removed]"
          },
          "metadata": {
            "needs_background": "light"
          }
        },
        {
          "output_type": "display_data",
          "data": {
            "text/plain": [
              "<Figure size 1080x720 with 6 Axes>"
            ],
            "image/png": "[encoded data removed]"
          },
          "metadata": {
            "needs_background": "light"
          }
        }
      ]
    },
    {
      "cell_type": "code",
      "source": [
        "is_E3 = ['E3' in t for t in type_list ]\n",
        "is_9mo = [' 9' in t for t in type_list ]\n",
        "age_list = [9 if b else 19 for b in is_9mo]\n",
        "genotype = ['E3' if b else 'E4' for b in is_E3]\n",
        "is_crePos = ['cre+' in t for t in type_list ]\n",
        "is_creNeg = ['cre-' in t for t in type_list ]\n",
        "not_cree = [not any( [is_crePos[i], is_creNeg[i]] ) for i in range(len(is_crePos))]\n",
        "e34_genotype = [genotype[i] for i in range(len(not_cree)) if not_cree[i]]\n",
        "e34_score = [score[i] for i in range(len(not_cree)) if not_cree[i]]\n",
        "e34_age = [str(age_list[i])+'mo' for i in range(len(not_cree)) if not_cree[i]]\n",
        "genotype_list_str = [t.replace(' 9mo', '').replace(' 19mo', '') for t in type_list]\n",
        "age_list_str = [str(a)+'mo' for a in age_list]\n",
        "\n",
        "\n",
        "df_for_34_2W_anova =  pd.DataFrame({'genotype': genotype_list_str,  'Age': age_list_str,'T1_Score': score})\n",
        "\n",
        "import statsmodels.api as sm\n",
        "from statsmodels.formula.api import ols\n",
        "from statsmodels.stats.multicomp import pairwise_tukeyhsd\n",
        "\n",
        "import pingouin as pg\n",
        "ANOVA2_results = pg.anova(dv='T1_Score', between=['genotype', 'Age'], data=df_for_34_2W_anova, detailed=True)\n",
        "display(ANOVA2_results)\n",
        "ANOVA2_results.to_csv('2W_results Age-Geno.csv')\n",
        "\n",
        "df_for_34_2W_anova['combination'] = df_for_34_2W_anova.genotype + \" : \" + df_for_34_2W_anova.Age\n",
        "m_comp = pairwise_tukeyhsd(endog=df_for_34_2W_anova['T1_Score'], groups=df_for_34_2W_anova['combination'], alpha=0.05)\n",
        "tukey_data = pd.DataFrame(data=m_comp._results_table.data[1:], columns = m_comp._results_table.data[0])\n",
        "tukey_data = tukey_data.sort_values('p-adj',ascending=True)\n",
        "display(tukey_data)\n",
        "tukey_data.to_csv('pairwise Age-Genotype.csv')"
      ],
      "metadata": {
        "colab": {
          "base_uri": "https://localhost:8080/",
          "height": 712
        },
        "id": "ZfCpYdBRwHl_",
        "outputId": "aa0d0fc0-38a2-4686-efe3-935461ba15d5"
      },
      "execution_count": null,
      "outputs": [
        {
          "output_type": "stream",
          "name": "stderr",
          "text": [
            "/usr/local/lib/python3.7/dist-packages/statsmodels/base/model.py:1873: ValueWarning: covariance of constraints does not have full rank. The number of constraints is 3, but rank is 2\n",
            "  'rank is %d' % (J, J_), ValueWarning)\n"
          ]
        },
        {
          "output_type": "display_data",
          "data": {
            "text/plain": [
              "           Source          SS     DF         MS         F     p-unc       np2\n",
              "0        genotype   55.855029    3.0  18.618343  5.792498  0.003892  0.117911\n",
              "1             Age    8.332468    1.0   8.332468  2.592379  0.109805  0.019551\n",
              "2  genotype * Age   76.860646    3.0  25.620215  7.970905  0.000064  0.155365\n",
              "3        Residual  417.848189  130.0   3.214217       NaN       NaN       NaN"
            ],
            "text/html": [
              "\n",
              "  <div id=\"df-79e53529-9c4e-40b2-8ccd-693e26c451e7\">\n",
              "    <div class=\"colab-df-container\">\n",
              "      <div>\n",
              "<style scoped>\n",
              "    .dataframe tbody tr th:only-of-type {\n",
              "        vertical-align: middle;\n",
              "    }\n",
              "\n",
              "    .dataframe tbody tr th {\n",
              "        vertical-align: top;\n",
              "    }\n",
              "\n",
              "    .dataframe thead th {\n",
              "        text-align: right;\n",
              "    }\n",
              "</style>\n",
              "<table border=\"1\" class=\"dataframe\">\n",
              "  <thead>\n",
              "    <tr style=\"text-align: right;\">\n",
              "      <th></th>\n",
              "      <th>Source</th>\n",
              "      <th>SS</th>\n",
              "      <th>DF</th>\n",
              "      <th>MS</th>\n",
              "      <th>F</th>\n",
              "      <th>p-unc</th>\n",
              "      <th>np2</th>\n",
              "    </tr>\n",
              "  </thead>\n",
              "  <tbody>\n",
              "    <tr>\n",
              "      <th>0</th>\n",
              "      <td>genotype</td>\n",
              "      <td>55.855029</td>\n",
              "      <td>3.0</td>\n",
              "      <td>18.618343</td>\n",
              "      <td>5.792498</td>\n",
              "      <td>0.003892</td>\n",
              "      <td>0.117911</td>\n",
              "    </tr>\n",
              "    <tr>\n",
              "      <th>1</th>\n",
              "      <td>Age</td>\n",
              "      <td>8.332468</td>\n",
              "      <td>1.0</td>\n",
              "      <td>8.332468</td>\n",
              "      <td>2.592379</td>\n",
              "      <td>0.109805</td>\n",
              "      <td>0.019551</td>\n",
              "    </tr>\n",
              "    <tr>\n",
              "      <th>2</th>\n",
              "      <td>genotype * Age</td>\n",
              "      <td>76.860646</td>\n",
              "      <td>3.0</td>\n",
              "      <td>25.620215</td>\n",
              "      <td>7.970905</td>\n",
              "      <td>0.000064</td>\n",
              "      <td>0.155365</td>\n",
              "    </tr>\n",
              "    <tr>\n",
              "      <th>3</th>\n",
              "      <td>Residual</td>\n",
              "      <td>417.848189</td>\n",
              "      <td>130.0</td>\n",
              "      <td>3.214217</td>\n",
              "      <td>NaN</td>\n",
              "      <td>NaN</td>\n",
              "      <td>NaN</td>\n",
              "    </tr>\n",
              "  </tbody>\n",
              "</table>\n",
              "</div>\n",
              "      <button class=\"colab-df-convert\" onclick=\"convertToInteractive('df-79e53529-9c4e-40b2-8ccd-693e26c451e7')\"\n",
              "              title=\"Convert this dataframe to an interactive table.\"\n",
              "              style=\"display:none;\">\n",
              "        \n",
              "  <svg xmlns=\"http://www.w3.org/2000/svg\" height=\"24px\"viewBox=\"0 0 24 24\"\n",
              "       width=\"24px\">\n",
              "    <path d=\"M0 0h24v24H0V0z\" fill=\"none\"/>\n",
              "    <path d=\"M18.56 5.44l.94 2.06.94-2.06 2.06-.94-2.06-.94-.94-2.06-.94 2.06-2.06.94zm-11 1L8.5 8.5l.94-2.06 2.06-.94-2.06-.94L8.5 2.5l-.94 2.06-2.06.94zm10 10l.94 2.06.94-2.06 2.06-.94-2.06-.94-.94-2.06-.94 2.06-2.06.94z\"/><path d=\"M17.41 7.96l-1.37-1.37c-.4-.4-.92-.59-1.43-.59-.52 0-1.04.2-1.43.59L10.3 9.45l-7.72 7.72c-.78.78-.78 2.05 0 2.83L4 21.41c.39.39.9.59 1.41.59.51 0 1.02-.2 1.41-.59l7.78-7.78 2.81-2.81c.8-.78.8-2.07 0-2.86zM5.41 20L4 18.59l7.72-7.72 1.47 1.35L5.41 20z\"/>\n",
              "  </svg>\n",
              "      </button>\n",
              "      \n",
              "  <style>\n",
              "    .colab-df-container {\n",
              "      display:flex;\n",
              "      flex-wrap:wrap;\n",
              "      gap: 12px;\n",
              "    }\n",
              "\n",
              "    .colab-df-convert {\n",
              "      background-color: #E8F0FE;\n",
              "      border: none;\n",
              "      border-radius: 50%;\n",
              "      cursor: pointer;\n",
              "      display: none;\n",
              "      fill: #1967D2;\n",
              "      height: 32px;\n",
              "      padding: 0 0 0 0;\n",
              "      width: 32px;\n",
              "    }\n",
              "\n",
              "    .colab-df-convert:hover {\n",
              "      background-color: #E2EBFA;\n",
              "      box-shadow: 0px 1px 2px rgba(60, 64, 67, 0.3), 0px 1px 3px 1px rgba(60, 64, 67, 0.15);\n",
              "      fill: #174EA6;\n",
              "    }\n",
              "\n",
              "    [theme=dark] .colab-df-convert {\n",
              "      background-color: #3B4455;\n",
              "      fill: #D2E3FC;\n",
              "    }\n",
              "\n",
              "    [theme=dark] .colab-df-convert:hover {\n",
              "      background-color: #434B5C;\n",
              "      box-shadow: 0px 1px 3px 1px rgba(0, 0, 0, 0.15);\n",
              "      filter: drop-shadow(0px 1px 2px rgba(0, 0, 0, 0.3));\n",
              "      fill: #FFFFFF;\n",
              "    }\n",
              "  </style>\n",
              "\n",
              "      <script>\n",
              "        const buttonEl =\n",
              "          document.querySelector('#df-79e53529-9c4e-40b2-8ccd-693e26c451e7 button.colab-df-convert');\n",
              "        buttonEl.style.display =\n",
              "          google.colab.kernel.accessAllowed ? 'block' : 'none';\n",
              "\n",
              "        async function convertToInteractive(key) {\n",
              "          const element = document.querySelector('#df-79e53529-9c4e-40b2-8ccd-693e26c451e7');\n",
              "          const dataTable =\n",
              "            await google.colab.kernel.invokeFunction('convertToInteractive',\n",
              "                                                     [key], {});\n",
              "          if (!dataTable) return;\n",
              "\n",
              "          const docLinkHtml = 'Like what you see? Visit the ' +\n",
              "            '<a target=\"_blank\" href=https://colab.research.google.com/notebooks/data_table.ipynb>data table notebook</a>'\n",
              "            + ' to learn more about interactive tables.';\n",
              "          element.innerHTML = '';\n",
              "          dataTable['output_type'] = 'display_data';\n",
              "          await google.colab.output.renderOutput(dataTable, element);\n",
              "          const docLink = document.createElement('div');\n",
              "          docLink.innerHTML = docLinkHtml;\n",
              "          element.appendChild(docLink);\n",
              "        }\n",
              "      </script>\n",
              "    </div>\n",
              "  </div>\n",
              "  "
            ]
          },
          "metadata": {}
        },
        {
          "output_type": "display_data",
          "data": {
            "text/plain": [
              "                group1              group2  meandiff   p-adj   lower   upper  \\\n",
              "5             E3 : 9mo           E4 : 19mo   -2.0433  0.0011 -3.4910 -0.5956   \n",
              "6             E3 : 9mo            E4 : 9mo   -1.9215  0.0012 -3.2966 -0.5464   \n",
              "0            E3 : 19mo            E3 : 9mo    2.0223  0.0016  0.5527  3.4920   \n",
              "10           E4 : 19mo  fE4 syncre+ : 19mo    2.0437  0.0070  0.3779  3.7095   \n",
              "3            E3 : 19mo  fE4 syncre+ : 19mo    2.0227  0.0090  0.3378  3.7076   \n",
              "12            E4 : 9mo  fE4 syncre+ : 19mo    1.9219  0.0091  0.3188  3.5250   \n",
              "8             E3 : 9mo  fE4 syncre- : 19mo   -1.7333  0.0130 -3.2268 -0.2398   \n",
              "14  fE4 syncre+ : 19mo  fE4 syncre- : 19mo   -1.7337  0.0440 -3.4395 -0.0279   \n",
              "11           E4 : 19mo  fE4 syncre- : 19mo    0.3100  0.9941 -1.3320  1.9521   \n",
              "4            E3 : 19mo  fE4 syncre- : 19mo    0.2891  0.9960 -1.3724  1.9505   \n",
              "13            E4 : 9mo  fE4 syncre- : 19mo    0.1882  0.9993 -1.3902  1.7666   \n",
              "9            E4 : 19mo            E4 : 9mo    0.1218  0.9999 -1.4133  1.6569   \n",
              "1            E3 : 19mo           E4 : 19mo   -0.0210  1.0000 -1.6413  1.5994   \n",
              "2            E3 : 19mo            E4 : 9mo    0.1008  1.0000 -1.4550  1.6566   \n",
              "7             E3 : 9mo  fE4 syncre+ : 19mo    0.0004  1.0000 -1.5192  1.5200   \n",
              "\n",
              "    reject  \n",
              "5     True  \n",
              "6     True  \n",
              "0     True  \n",
              "10    True  \n",
              "3     True  \n",
              "12    True  \n",
              "8     True  \n",
              "14    True  \n",
              "11   False  \n",
              "4    False  \n",
              "13   False  \n",
              "9    False  \n",
              "1    False  \n",
              "2    False  \n",
              "7    False  "
            ],
            "text/html": [
              "\n",
              "  <div id=\"df-84b01702-ee30-4d49-8c3c-ada8027dce8c\">\n",
              "    <div class=\"colab-df-container\">\n",
              "      <div>\n",
              "<style scoped>\n",
              "    .dataframe tbody tr th:only-of-type {\n",
              "        vertical-align: middle;\n",
              "    }\n",
              "\n",
              "    .dataframe tbody tr th {\n",
              "        vertical-align: top;\n",
              "    }\n",
              "\n",
              "    .dataframe thead th {\n",
              "        text-align: right;\n",
              "    }\n",
              "</style>\n",
              "<table border=\"1\" class=\"dataframe\">\n",
              "  <thead>\n",
              "    <tr style=\"text-align: right;\">\n",
              "      <th></th>\n",
              "      <th>group1</th>\n",
              "      <th>group2</th>\n",
              "      <th>meandiff</th>\n",
              "      <th>p-adj</th>\n",
              "      <th>lower</th>\n",
              "      <th>upper</th>\n",
              "      <th>reject</th>\n",
              "    </tr>\n",
              "  </thead>\n",
              "  <tbody>\n",
              "    <tr>\n",
              "      <th>5</th>\n",
              "      <td>E3 : 9mo</td>\n",
              "      <td>E4 : 19mo</td>\n",
              "      <td>-2.0433</td>\n",
              "      <td>0.0011</td>\n",
              "      <td>-3.4910</td>\n",
              "      <td>-0.5956</td>\n",
              "      <td>True</td>\n",
              "    </tr>\n",
              "    <tr>\n",
              "      <th>6</th>\n",
              "      <td>E3 : 9mo</td>\n",
              "      <td>E4 : 9mo</td>\n",
              "      <td>-1.9215</td>\n",
              "      <td>0.0012</td>\n",
              "      <td>-3.2966</td>\n",
              "      <td>-0.5464</td>\n",
              "      <td>True</td>\n",
              "    </tr>\n",
              "    <tr>\n",
              "      <th>0</th>\n",
              "      <td>E3 : 19mo</td>\n",
              "      <td>E3 : 9mo</td>\n",
              "      <td>2.0223</td>\n",
              "      <td>0.0016</td>\n",
              "      <td>0.5527</td>\n",
              "      <td>3.4920</td>\n",
              "      <td>True</td>\n",
              "    </tr>\n",
              "    <tr>\n",
              "      <th>10</th>\n",
              "      <td>E4 : 19mo</td>\n",
              "      <td>fE4 syncre+ : 19mo</td>\n",
              "      <td>2.0437</td>\n",
              "      <td>0.0070</td>\n",
              "      <td>0.3779</td>\n",
              "      <td>3.7095</td>\n",
              "      <td>True</td>\n",
              "    </tr>\n",
              "    <tr>\n",
              "      <th>3</th>\n",
              "      <td>E3 : 19mo</td>\n",
              "      <td>fE4 syncre+ : 19mo</td>\n",
              "      <td>2.0227</td>\n",
              "      <td>0.0090</td>\n",
              "      <td>0.3378</td>\n",
              "      <td>3.7076</td>\n",
              "      <td>True</td>\n",
              "    </tr>\n",
              "    <tr>\n",
              "      <th>12</th>\n",
              "      <td>E4 : 9mo</td>\n",
              "      <td>fE4 syncre+ : 19mo</td>\n",
              "      <td>1.9219</td>\n",
              "      <td>0.0091</td>\n",
              "      <td>0.3188</td>\n",
              "      <td>3.5250</td>\n",
              "      <td>True</td>\n",
              "    </tr>\n",
              "    <tr>\n",
              "      <th>8</th>\n",
              "      <td>E3 : 9mo</td>\n",
              "      <td>fE4 syncre- : 19mo</td>\n",
              "      <td>-1.7333</td>\n",
              "      <td>0.0130</td>\n",
              "      <td>-3.2268</td>\n",
              "      <td>-0.2398</td>\n",
              "      <td>True</td>\n",
              "    </tr>\n",
              "    <tr>\n",
              "      <th>14</th>\n",
              "      <td>fE4 syncre+ : 19mo</td>\n",
              "      <td>fE4 syncre- : 19mo</td>\n",
              "      <td>-1.7337</td>\n",
              "      <td>0.0440</td>\n",
              "      <td>-3.4395</td>\n",
              "      <td>-0.0279</td>\n",
              "      <td>True</td>\n",
              "    </tr>\n",
              "    <tr>\n",
              "      <th>11</th>\n",
              "      <td>E4 : 19mo</td>\n",
              "      <td>fE4 syncre- : 19mo</td>\n",
              "      <td>0.3100</td>\n",
              "      <td>0.9941</td>\n",
              "      <td>-1.3320</td>\n",
              "      <td>1.9521</td>\n",
              "      <td>False</td>\n",
              "    </tr>\n",
              "    <tr>\n",
              "      <th>4</th>\n",
              "      <td>E3 : 19mo</td>\n",
              "      <td>fE4 syncre- : 19mo</td>\n",
              "      <td>0.2891</td>\n",
              "      <td>0.9960</td>\n",
              "      <td>-1.3724</td>\n",
              "      <td>1.9505</td>\n",
              "      <td>False</td>\n",
              "    </tr>\n",
              "    <tr>\n",
              "      <th>13</th>\n",
              "      <td>E4 : 9mo</td>\n",
              "      <td>fE4 syncre- : 19mo</td>\n",
              "      <td>0.1882</td>\n",
              "      <td>0.9993</td>\n",
              "      <td>-1.3902</td>\n",
              "      <td>1.7666</td>\n",
              "      <td>False</td>\n",
              "    </tr>\n",
              "    <tr>\n",
              "      <th>9</th>\n",
              "      <td>E4 : 19mo</td>\n",
              "      <td>E4 : 9mo</td>\n",
              "      <td>0.1218</td>\n",
              "      <td>0.9999</td>\n",
              "      <td>-1.4133</td>\n",
              "      <td>1.6569</td>\n",
              "      <td>False</td>\n",
              "    </tr>\n",
              "    <tr>\n",
              "      <th>1</th>\n",
              "      <td>E3 : 19mo</td>\n",
              "      <td>E4 : 19mo</td>\n",
              "      <td>-0.0210</td>\n",
              "      <td>1.0000</td>\n",
              "      <td>-1.6413</td>\n",
              "      <td>1.5994</td>\n",
              "      <td>False</td>\n",
              "    </tr>\n",
              "    <tr>\n",
              "      <th>2</th>\n",
              "      <td>E3 : 19mo</td>\n",
              "      <td>E4 : 9mo</td>\n",
              "      <td>0.1008</td>\n",
              "      <td>1.0000</td>\n",
              "      <td>-1.4550</td>\n",
              "      <td>1.6566</td>\n",
              "      <td>False</td>\n",
              "    </tr>\n",
              "    <tr>\n",
              "      <th>7</th>\n",
              "      <td>E3 : 9mo</td>\n",
              "      <td>fE4 syncre+ : 19mo</td>\n",
              "      <td>0.0004</td>\n",
              "      <td>1.0000</td>\n",
              "      <td>-1.5192</td>\n",
              "      <td>1.5200</td>\n",
              "      <td>False</td>\n",
              "    </tr>\n",
              "  </tbody>\n",
              "</table>\n",
              "</div>\n",
              "      <button class=\"colab-df-convert\" onclick=\"convertToInteractive('df-84b01702-ee30-4d49-8c3c-ada8027dce8c')\"\n",
              "              title=\"Convert this dataframe to an interactive table.\"\n",
              "              style=\"display:none;\">\n",
              "        \n",
              "  <svg xmlns=\"http://www.w3.org/2000/svg\" height=\"24px\"viewBox=\"0 0 24 24\"\n",
              "       width=\"24px\">\n",
              "    <path d=\"M0 0h24v24H0V0z\" fill=\"none\"/>\n",
              "    <path d=\"M18.56 5.44l.94 2.06.94-2.06 2.06-.94-2.06-.94-.94-2.06-.94 2.06-2.06.94zm-11 1L8.5 8.5l.94-2.06 2.06-.94-2.06-.94L8.5 2.5l-.94 2.06-2.06.94zm10 10l.94 2.06.94-2.06 2.06-.94-2.06-.94-.94-2.06-.94 2.06-2.06.94z\"/><path d=\"M17.41 7.96l-1.37-1.37c-.4-.4-.92-.59-1.43-.59-.52 0-1.04.2-1.43.59L10.3 9.45l-7.72 7.72c-.78.78-.78 2.05 0 2.83L4 21.41c.39.39.9.59 1.41.59.51 0 1.02-.2 1.41-.59l7.78-7.78 2.81-2.81c.8-.78.8-2.07 0-2.86zM5.41 20L4 18.59l7.72-7.72 1.47 1.35L5.41 20z\"/>\n",
              "  </svg>\n",
              "      </button>\n",
              "      \n",
              "  <style>\n",
              "    .colab-df-container {\n",
              "      display:flex;\n",
              "      flex-wrap:wrap;\n",
              "      gap: 12px;\n",
              "    }\n",
              "\n",
              "    .colab-df-convert {\n",
              "      background-color: #E8F0FE;\n",
              "      border: none;\n",
              "      border-radius: 50%;\n",
              "      cursor: pointer;\n",
              "      display: none;\n",
              "      fill: #1967D2;\n",
              "      height: 32px;\n",
              "      padding: 0 0 0 0;\n",
              "      width: 32px;\n",
              "    }\n",
              "\n",
              "    .colab-df-convert:hover {\n",
              "      background-color: #E2EBFA;\n",
              "      box-shadow: 0px 1px 2px rgba(60, 64, 67, 0.3), 0px 1px 3px 1px rgba(60, 64, 67, 0.15);\n",
              "      fill: #174EA6;\n",
              "    }\n",
              "\n",
              "    [theme=dark] .colab-df-convert {\n",
              "      background-color: #3B4455;\n",
              "      fill: #D2E3FC;\n",
              "    }\n",
              "\n",
              "    [theme=dark] .colab-df-convert:hover {\n",
              "      background-color: #434B5C;\n",
              "      box-shadow: 0px 1px 3px 1px rgba(0, 0, 0, 0.15);\n",
              "      filter: drop-shadow(0px 1px 2px rgba(0, 0, 0, 0.3));\n",
              "      fill: #FFFFFF;\n",
              "    }\n",
              "  </style>\n",
              "\n",
              "      <script>\n",
              "        const buttonEl =\n",
              "          document.querySelector('#df-84b01702-ee30-4d49-8c3c-ada8027dce8c button.colab-df-convert');\n",
              "        buttonEl.style.display =\n",
              "          google.colab.kernel.accessAllowed ? 'block' : 'none';\n",
              "\n",
              "        async function convertToInteractive(key) {\n",
              "          const element = document.querySelector('#df-84b01702-ee30-4d49-8c3c-ada8027dce8c');\n",
              "          const dataTable =\n",
              "            await google.colab.kernel.invokeFunction('convertToInteractive',\n",
              "                                                     [key], {});\n",
              "          if (!dataTable) return;\n",
              "\n",
              "          const docLinkHtml = 'Like what you see? Visit the ' +\n",
              "            '<a target=\"_blank\" href=https://colab.research.google.com/notebooks/data_table.ipynb>data table notebook</a>'\n",
              "            + ' to learn more about interactive tables.';\n",
              "          element.innerHTML = '';\n",
              "          dataTable['output_type'] = 'display_data';\n",
              "          await google.colab.output.renderOutput(dataTable, element);\n",
              "          const docLink = document.createElement('div');\n",
              "          docLink.innerHTML = docLinkHtml;\n",
              "          element.appendChild(docLink);\n",
              "        }\n",
              "      </script>\n",
              "    </div>\n",
              "  </div>\n",
              "  "
            ]
          },
          "metadata": {}
        }
      ]
    },
    {
      "cell_type": "code",
      "source": [],
      "metadata": {
        "id": "quKzYAPU8NIZ"
      },
      "execution_count": null,
      "outputs": []
    },
    {
      "cell_type": "code",
      "source": [
        "from pandas.compat.numpy import np_array_datetime64_compat\n",
        "###########   Cluster Validation #############\n",
        "from random import sample\n",
        "from tqdm import tqdm\n",
        "import scipy\n",
        "''' random sub sample cluster and plot cluster center similarity '''\n",
        "SubSampleFrac = .8\n",
        "num_iter = 1000\n",
        "center_list = []\n",
        "label_list = []\n",
        "sub_sample_ind_list = []\n",
        "full_label_list = []\n",
        "k = 2\n",
        "\n",
        "\n",
        "for ni in tqdm( range(num_iter) ):\n",
        "    sub_sample_ind = []\n",
        "    for t in uniq_types:\n",
        "        t_inds = [i for i in range(len(type_list)) if t in type_list[i]]\n",
        "        # print(t_inds)\n",
        "        sub_sample_ind.extend( sample(t_inds, int(len(t_inds)*SubSampleFrac) ) )\n",
        "    kmeans_iter = KMeans(n_clusters=k, random_state=42).fit(data_for_fit[sub_sample_ind][:,new_cent_order])\n",
        "    centers_iter = kmeans_iter.cluster_centers_.T\n",
        "    centers_iter = centers_iter - np.mean(centers_iter,axis=0)\n",
        "    labels_iter = kmeans_iter.labels_\n",
        "\n",
        "    # if ni>0:\n",
        "    #     corco = np.corrcoef(centers_iter.T,center_list[0].T)\n",
        "    #     if corco[0,-1] > corco[0,-2]:\n",
        "    #         centers_iter = np.flip(centers_iter, axis=1)\n",
        "    #         labels_iter=np.logical_not(labels_iter)\n",
        "    if ni>0:\n",
        "        corco = np.corrcoef(centers_iter.T,center_list[0].T)\n",
        "        corco = corco[0:k,k:]\n",
        "        ind = np.argmax(corco,axis=0) \n",
        "        centers_iter = centers_iter[:,ind]\n",
        "        labels_iter = [ind[l] for l in labels_iter]\n",
        "    \n",
        "    full_label_iter = np.empty((data_for_fit.shape[0],))\n",
        "    full_label_iter[:] = np.nan\n",
        "    full_label_iter[sub_sample_ind] = labels_iter\n",
        "\n",
        "    center_list.append(centers_iter)\n",
        "    label_list.append(labels_iter)\n",
        "    sub_sample_ind_list.append(sub_sample_ind_list)\n",
        "    full_label_list.append(full_label_iter)\n",
        "    \n",
        "    # delta_centers_iter = abs( np.diff(centers_iter,axis=1))\n",
        "   \n",
        "center_stack = np.stack(center_list)\n",
        "mean_center = np.mean(center_stack,0)\n",
        "nintey_p_center = np.percentile(center_stack, [2.5, 97.5], axis=0)\n",
        "\n",
        "cmap = plt.cm.viridis(np.linspace(0,1,k))\n",
        "fig, ax = plt.subplots(1)\n",
        "for ki in range(k):\n",
        "    ax.plot(mean_center[:,ki].T,'-o',color=cmap[ki])\n",
        "    ax.plot(nintey_p_center[0,:,ki].T,':',color=cmap[ki])\n",
        "    ax.plot(nintey_p_center[1,:,ki].T,':',color=cmap[ki])\n",
        "\n",
        "\n",
        "ax.set_xticks(np.arange(len(numericals)))\n",
        "ax.set_xticklabels(sorted_numericals,rotation=90)\n",
        "ax.axhline(0, color='k')\n",
        "\n",
        "\n",
        "\n",
        "full_label_stack = np.stack(full_label_list)\n",
        "\n",
        "pseudo_truth = scipy.stats.mode(full_label_stack,axis=0)[0]\n",
        "is_match = full_label_stack == pseudo_truth\n",
        "consistency_iter = np.mean(is_match, axis = 1)\n",
        "mean_consistency = np.mean(consistency_iter)\n",
        "std_consistency = np.std(consistency_iter)\n",
        "consistency_report = 'label consistency: ' + str(round(mean_consistency*100,1)) + '% +- ' + str(round(std_consistency*100,2)) + ' (chance: ' + str(round(1/k*100,1))+')'\n",
        "# print(consistency_report)\n",
        "# print('(chance: ' + str(round(1/k*100,1))+')')\n",
        "ax.title.set_text( str(ni+1) +' iterations' + '\\n' + consistency_report)\n",
        "plt.show()\n",
        "fig.savefig('CrossVal_Data k=2 Centers.'+fig_opt['format'],**fig_opt)\n",
        "\n",
        "\n",
        "\n",
        "fig, ax = plt.subplots(2,1,gridspec_kw={'height_ratios': [3, 1]}  )\n",
        "ax[0].pcolor( full_label_stack )\n",
        "ax[0].set_xlabel('Cell')\n",
        "ax[0].set_ylabel('Iteration')\n",
        "ax[0].title.set_text('K='+str(k) +' '+ consistency_report)\n",
        "ax[1].plot(np.mean(is_match,axis=0)*100)\n",
        "ax[1].set_ylabel('Consistency (%)')\n",
        "ax[1].set_ylim((0,100))\n",
        "ax[1].set_xlim((0,is_match.shape[1]))\n",
        "ax[1].set_xlabel('Cell')\n",
        "fig.savefig('CrossVal_Data k=2 Labeling.'+fig_opt['format'],**fig_opt)"
      ],
      "metadata": {
        "colab": {
          "base_uri": "https://localhost:8080/",
          "height": 665
        },
        "id": "LRoB5P9Nd7hV",
        "outputId": "2424c986-c5da-4575-e210-f23b8548702b"
      },
      "execution_count": null,
      "outputs": [
        {
          "output_type": "stream",
          "name": "stderr",
          "text": [
            "100%|██████████| 1000/1000 [00:24<00:00, 41.45it/s]\n"
          ]
        },
        {
          "output_type": "display_data",
          "data": {
            "text/plain": [
              "<Figure size 432x288 with 1 Axes>"
            ],
            "image/png": "[encoded data removed]"
          },
          "metadata": {
            "needs_background": "light"
          }
        },
        {
          "output_type": "display_data",
          "data": {
            "text/plain": [
              "<Figure size 432x288 with 2 Axes>"
            ],
            "image/png": "[encoded data removed]"
          },
          "metadata": {
            "needs_background": "light"
          }
        }
      ]
    },
    {
      "cell_type": "code",
      "source": [
        "from pandas.compat.numpy import np_array_datetime64_compat\n",
        "###########   Cluster Validation #############\n",
        "from random import sample\n",
        "from tqdm import tqdm\n",
        "import scipy\n",
        "''' random sub sample cluster and plot cluster center similarity '''\n",
        "SubSampleFrac = .8\n",
        "num_iter = 1000\n",
        "center_list = []\n",
        "label_list = []\n",
        "sub_sample_ind_list = []\n",
        "full_label_list = []\n",
        "k = 3\n",
        "\n",
        "\n",
        "for ni in tqdm( range(num_iter) ):\n",
        "    sub_sample_ind = []\n",
        "    for t in uniq_types:\n",
        "        t_inds = [i for i in range(len(type_list)) if t in type_list[i]]\n",
        "        # print(t_inds)\n",
        "        sub_sample_ind.extend( sample(t_inds, int(len(t_inds)*SubSampleFrac) ) )\n",
        "    kmeans_iter = KMeans(n_clusters=k, random_state=42).fit(data_for_fit[sub_sample_ind][:,new_cent_order])\n",
        "    centers_iter = kmeans_iter.cluster_centers_.T\n",
        "    centers_iter = centers_iter - np.mean(centers_iter,axis=0)\n",
        "    labels_iter = kmeans_iter.labels_\n",
        "\n",
        "    if ni>0:\n",
        "        corco = np.corrcoef(centers_iter.T,center_list[0].T)\n",
        "        corco = corco[0:k,k:]\n",
        "        ind = np.argmax(corco,axis=0) \n",
        "        centers_iter = centers_iter[:,ind]\n",
        "        labels_iter = [ind[l] for l in labels_iter]\n",
        "    \n",
        "    full_label_iter = np.empty((data_for_fit.shape[0],))\n",
        "    full_label_iter[:] = np.nan\n",
        "    full_label_iter[sub_sample_ind] = labels_iter\n",
        "\n",
        "    center_list.append(centers_iter)\n",
        "    label_list.append(labels_iter)\n",
        "    sub_sample_ind_list.append(sub_sample_ind_list)\n",
        "    full_label_list.append(full_label_iter)\n",
        "    \n",
        "    # delta_centers_iter = abs( np.diff(centers_iter,axis=1))\n",
        "   \n",
        "center_stack = np.stack(center_list)\n",
        "mean_center = np.mean(center_stack,0)\n",
        "nintey_p_center = np.percentile(center_stack, [2.5, 97.5], axis=0)\n",
        "\n",
        "cmap = plt.cm.viridis(np.linspace(0,1,k))\n",
        "fig, ax = plt.subplots(1)\n",
        "for ki in range(k):\n",
        "    ax.plot(mean_center[:,ki].T,'-o',color=cmap[ki])\n",
        "    ax.plot(nintey_p_center[0,:,ki].T,':',color=cmap[ki])\n",
        "    ax.plot(nintey_p_center[1,:,ki].T,':',color=cmap[ki])\n",
        "\n",
        "\n",
        "ax.set_xticks(np.arange(len(numericals)))\n",
        "ax.set_xticklabels(sorted_numericals,rotation=90)\n",
        "ax.axhline(0, color='k')\n",
        "\n",
        "\n",
        "\n",
        "full_label_stack = np.stack(full_label_list)\n",
        "\n",
        "pseudo_truth = scipy.stats.mode(full_label_stack,axis=0)[0]\n",
        "is_match = full_label_stack == pseudo_truth\n",
        "consistency_iter = np.mean(is_match, axis = 1)\n",
        "mean_consistency = np.mean(consistency_iter)\n",
        "std_consistency = np.std(consistency_iter)\n",
        "consistency_report = 'label consistency: ' + str(round(mean_consistency*100,1)) + '% +- ' + str(round(std_consistency*100,2)) + ' (chance: ' + str(round(1/k*100,1))+')'\n",
        "# print(consistency_report)\n",
        "# print('(chance: ' + str(round(1/k*100,1))+')')\n",
        "ax.title.set_text( str(ni+1) +' iterations' )\n",
        "plt.show()\n",
        "fig.savefig('CrossVal_Data k=3 Centers.'+fig_opt['format'],**fig_opt)\n",
        "\n",
        "\n",
        "fig, ax = plt.subplots(2,1,gridspec_kw={'height_ratios': [3, 1]}  )\n",
        "ax[0].pcolor( full_label_stack )\n",
        "ax[0].set_xlabel('Cell')\n",
        "ax[0].set_ylabel('Iteration')\n",
        "ax[0].title.set_text('K='+str(k) +' '+ consistency_report)\n",
        "ax[1].plot(np.mean(is_match,axis=0)*100)\n",
        "ax[1].set_ylabel('Consistency (%)')\n",
        "ax[1].set_ylim((0,100))\n",
        "ax[1].set_xlim((0,is_match.shape[1]))\n",
        "ax[1].set_xlabel('Cell')\n",
        "fig.savefig('CrossVal_Data k=3 Labeling.'+fig_opt['format'],**fig_opt)"
      ],
      "metadata": {
        "id": "-8YerpyJ6wQN",
        "colab": {
          "base_uri": "https://localhost:8080/",
          "height": 650
        },
        "outputId": "073bbd05-7880-433a-c4ca-1cc6c486d35c"
      },
      "execution_count": null,
      "outputs": [
        {
          "output_type": "stream",
          "name": "stderr",
          "text": [
            "100%|██████████| 1000/1000 [00:26<00:00, 38.17it/s]\n"
          ]
        },
        {
          "output_type": "display_data",
          "data": {
            "text/plain": [
              "<Figure size 432x288 with 1 Axes>"
            ],
            "image/png": "[encoded data removed]"
          },
          "metadata": {
            "needs_background": "light"
          }
        },
        {
          "output_type": "display_data",
          "data": {
            "text/plain": [
              "<Figure size 432x288 with 2 Axes>"
            ],
            "image/png": "[encoded data removed]"
          },
          "metadata": {
            "needs_background": "light"
          }
        }
      ]
    },
    {
      "cell_type": "code",
      "source": [],
      "metadata": {
        "id": "eL-hcZfG9pGA"
      },
      "execution_count": null,
      "outputs": []
    },
    {
      "cell_type": "code",
      "source": [
        "\n",
        "import os\n",
        "from google import colab\n",
        "for root, dirs, files in os.walk(\"/content\"):\n",
        "    for f in files:\n",
        "        if 'sample_data' in root: continue\n",
        "        if f.endswith(\".png\"):\n",
        "             colab.files.download(os.path.join(root, f))\n",
        "        if f.endswith(\".csv\"):\n",
        "             colab.files.download(os.path.join(root, f))"
      ],
      "metadata": {
        "id": "ysGW28DS3kqQ",
        "colab": {
          "base_uri": "https://localhost:8080/",
          "height": 17
        },
        "outputId": "2628055f-a87e-4fea-ad4c-514baefef4e9"
      },
      "execution_count": null,
      "outputs": [
        {
          "output_type": "display_data",
          "data": {
            "text/plain": [
              "<IPython.core.display.Javascript object>"
            ],
            "application/javascript": [
              "\n",
              "    async function download(id, filename, size) {\n",
              "      if (!google.colab.kernel.accessAllowed) {\n",
              "        return;\n",
              "      }\n",
              "      const div = document.createElement('div');\n",
              "      const label = document.createElement('label');\n",
              "      label.textContent = `Downloading \"${filename}\": `;\n",
              "      div.appendChild(label);\n",
              "      const progress = document.createElement('progress');\n",
              "      progress.max = size;\n",
              "      div.appendChild(progress);\n",
              "      document.body.appendChild(div);\n",
              "\n",
              "      const buffers = [];\n",
              "      let downloaded = 0;\n",
              "\n",
              "      const channel = await google.colab.kernel.comms.open(id);\n",
              "      // Send a message to notify the kernel that we're ready.\n",
              "      channel.send({})\n",
              "\n",
              "      for await (const message of channel.messages) {\n",
              "        // Send a message to notify the kernel that we're ready.\n",
              "        channel.send({})\n",
              "        if (message.buffers) {\n",
              "          for (const buffer of message.buffers) {\n",
              "            buffers.push(buffer);\n",
              "            downloaded += buffer.byteLength;\n",
              "            progress.value = downloaded;\n",
              "          }\n",
              "        }\n",
              "      }\n",
              "      const blob = new Blob(buffers, {type: 'application/binary'});\n",
              "      const a = document.createElement('a');\n",
              "      a.href = window.URL.createObjectURL(blob);\n",
              "      a.download = filename;\n",
              "      div.appendChild(a);\n",
              "      a.click();\n",
              "      div.remove();\n",
              "    }\n",
              "  "
            ]
          },
          "metadata": {}
        },
        {
          "output_type": "display_data",
          "data": {
            "text/plain": [
              "<IPython.core.display.Javascript object>"
            ],
            "application/javascript": [
              "download(\"download_e34b6fbd-249e-4b1b-8fdc-a077b6f713ad\", \"GenoType_dist_Separate.png\", 354832)"
            ]
          },
          "metadata": {}
        },
        {
          "output_type": "display_data",
          "data": {
            "text/plain": [
              "<IPython.core.display.Javascript object>"
            ],
            "application/javascript": [
              "\n",
              "    async function download(id, filename, size) {\n",
              "      if (!google.colab.kernel.accessAllowed) {\n",
              "        return;\n",
              "      }\n",
              "      const div = document.createElement('div');\n",
              "      const label = document.createElement('label');\n",
              "      label.textContent = `Downloading \"${filename}\": `;\n",
              "      div.appendChild(label);\n",
              "      const progress = document.createElement('progress');\n",
              "      progress.max = size;\n",
              "      div.appendChild(progress);\n",
              "      document.body.appendChild(div);\n",
              "\n",
              "      const buffers = [];\n",
              "      let downloaded = 0;\n",
              "\n",
              "      const channel = await google.colab.kernel.comms.open(id);\n",
              "      // Send a message to notify the kernel that we're ready.\n",
              "      channel.send({})\n",
              "\n",
              "      for await (const message of channel.messages) {\n",
              "        // Send a message to notify the kernel that we're ready.\n",
              "        channel.send({})\n",
              "        if (message.buffers) {\n",
              "          for (const buffer of message.buffers) {\n",
              "            buffers.push(buffer);\n",
              "            downloaded += buffer.byteLength;\n",
              "            progress.value = downloaded;\n",
              "          }\n",
              "        }\n",
              "      }\n",
              "      const blob = new Blob(buffers, {type: 'application/binary'});\n",
              "      const a = document.createElement('a');\n",
              "      a.href = window.URL.createObjectURL(blob);\n",
              "      a.download = filename;\n",
              "      div.appendChild(a);\n",
              "      a.click();\n",
              "      div.remove();\n",
              "    }\n",
              "  "
            ]
          },
          "metadata": {}
        },
        {
          "output_type": "display_data",
          "data": {
            "text/plain": [
              "<IPython.core.display.Javascript object>"
            ],
            "application/javascript": [
              "download(\"download_12e0ae2c-9bf1-4425-9eb2-b146e8e35f99\", \"2W_results Age-Geno.csv\", 418)"
            ]
          },
          "metadata": {}
        },
        {
          "output_type": "display_data",
          "data": {
            "text/plain": [
              "<IPython.core.display.Javascript object>"
            ],
            "application/javascript": [
              "\n",
              "    async function download(id, filename, size) {\n",
              "      if (!google.colab.kernel.accessAllowed) {\n",
              "        return;\n",
              "      }\n",
              "      const div = document.createElement('div');\n",
              "      const label = document.createElement('label');\n",
              "      label.textContent = `Downloading \"${filename}\": `;\n",
              "      div.appendChild(label);\n",
              "      const progress = document.createElement('progress');\n",
              "      progress.max = size;\n",
              "      div.appendChild(progress);\n",
              "      document.body.appendChild(div);\n",
              "\n",
              "      const buffers = [];\n",
              "      let downloaded = 0;\n",
              "\n",
              "      const channel = await google.colab.kernel.comms.open(id);\n",
              "      // Send a message to notify the kernel that we're ready.\n",
              "      channel.send({})\n",
              "\n",
              "      for await (const message of channel.messages) {\n",
              "        // Send a message to notify the kernel that we're ready.\n",
              "        channel.send({})\n",
              "        if (message.buffers) {\n",
              "          for (const buffer of message.buffers) {\n",
              "            buffers.push(buffer);\n",
              "            downloaded += buffer.byteLength;\n",
              "            progress.value = downloaded;\n",
              "          }\n",
              "        }\n",
              "      }\n",
              "      const blob = new Blob(buffers, {type: 'application/binary'});\n",
              "      const a = document.createElement('a');\n",
              "      a.href = window.URL.createObjectURL(blob);\n",
              "      a.download = filename;\n",
              "      div.appendChild(a);\n",
              "      a.click();\n",
              "      div.remove();\n",
              "    }\n",
              "  "
            ]
          },
          "metadata": {}
        },
        {
          "output_type": "display_data",
          "data": {
            "text/plain": [
              "<IPython.core.display.Javascript object>"
            ],
            "application/javascript": [
              "download(\"download_a076d2ee-d8c7-409b-9bcf-99058b701c50\", \"Clusters.png\", 183504)"
            ]
          },
          "metadata": {}
        },
        {
          "output_type": "display_data",
          "data": {
            "text/plain": [
              "<IPython.core.display.Javascript object>"
            ],
            "application/javascript": [
              "\n",
              "    async function download(id, filename, size) {\n",
              "      if (!google.colab.kernel.accessAllowed) {\n",
              "        return;\n",
              "      }\n",
              "      const div = document.createElement('div');\n",
              "      const label = document.createElement('label');\n",
              "      label.textContent = `Downloading \"${filename}\": `;\n",
              "      div.appendChild(label);\n",
              "      const progress = document.createElement('progress');\n",
              "      progress.max = size;\n",
              "      div.appendChild(progress);\n",
              "      document.body.appendChild(div);\n",
              "\n",
              "      const buffers = [];\n",
              "      let downloaded = 0;\n",
              "\n",
              "      const channel = await google.colab.kernel.comms.open(id);\n",
              "      // Send a message to notify the kernel that we're ready.\n",
              "      channel.send({})\n",
              "\n",
              "      for await (const message of channel.messages) {\n",
              "        // Send a message to notify the kernel that we're ready.\n",
              "        channel.send({})\n",
              "        if (message.buffers) {\n",
              "          for (const buffer of message.buffers) {\n",
              "            buffers.push(buffer);\n",
              "            downloaded += buffer.byteLength;\n",
              "            progress.value = downloaded;\n",
              "          }\n",
              "        }\n",
              "      }\n",
              "      const blob = new Blob(buffers, {type: 'application/binary'});\n",
              "      const a = document.createElement('a');\n",
              "      a.href = window.URL.createObjectURL(blob);\n",
              "      a.download = filename;\n",
              "      div.appendChild(a);\n",
              "      a.click();\n",
              "      div.remove();\n",
              "    }\n",
              "  "
            ]
          },
          "metadata": {}
        },
        {
          "output_type": "display_data",
          "data": {
            "text/plain": [
              "<IPython.core.display.Javascript object>"
            ],
            "application/javascript": [
              "download(\"download_d063d024-b98d-4249-8722-32adf9173abc\", \"pairwise Age-Genotype.csv\", 962)"
            ]
          },
          "metadata": {}
        },
        {
          "output_type": "display_data",
          "data": {
            "text/plain": [
              "<IPython.core.display.Javascript object>"
            ],
            "application/javascript": [
              "\n",
              "    async function download(id, filename, size) {\n",
              "      if (!google.colab.kernel.accessAllowed) {\n",
              "        return;\n",
              "      }\n",
              "      const div = document.createElement('div');\n",
              "      const label = document.createElement('label');\n",
              "      label.textContent = `Downloading \"${filename}\": `;\n",
              "      div.appendChild(label);\n",
              "      const progress = document.createElement('progress');\n",
              "      progress.max = size;\n",
              "      div.appendChild(progress);\n",
              "      document.body.appendChild(div);\n",
              "\n",
              "      const buffers = [];\n",
              "      let downloaded = 0;\n",
              "\n",
              "      const channel = await google.colab.kernel.comms.open(id);\n",
              "      // Send a message to notify the kernel that we're ready.\n",
              "      channel.send({})\n",
              "\n",
              "      for await (const message of channel.messages) {\n",
              "        // Send a message to notify the kernel that we're ready.\n",
              "        channel.send({})\n",
              "        if (message.buffers) {\n",
              "          for (const buffer of message.buffers) {\n",
              "            buffers.push(buffer);\n",
              "            downloaded += buffer.byteLength;\n",
              "            progress.value = downloaded;\n",
              "          }\n",
              "        }\n",
              "      }\n",
              "      const blob = new Blob(buffers, {type: 'application/binary'});\n",
              "      const a = document.createElement('a');\n",
              "      a.href = window.URL.createObjectURL(blob);\n",
              "      a.download = filename;\n",
              "      div.appendChild(a);\n",
              "      a.click();\n",
              "      div.remove();\n",
              "    }\n",
              "  "
            ]
          },
          "metadata": {}
        },
        {
          "output_type": "display_data",
          "data": {
            "text/plain": [
              "<IPython.core.display.Javascript object>"
            ],
            "application/javascript": [
              "download(\"download_a8afbe2e-b912-4404-87a3-3f7634720569\", \"CrossVal_Data k=3 Centers.png\", 203190)"
            ]
          },
          "metadata": {}
        },
        {
          "output_type": "display_data",
          "data": {
            "text/plain": [
              "<IPython.core.display.Javascript object>"
            ],
            "application/javascript": [
              "\n",
              "    async function download(id, filename, size) {\n",
              "      if (!google.colab.kernel.accessAllowed) {\n",
              "        return;\n",
              "      }\n",
              "      const div = document.createElement('div');\n",
              "      const label = document.createElement('label');\n",
              "      label.textContent = `Downloading \"${filename}\": `;\n",
              "      div.appendChild(label);\n",
              "      const progress = document.createElement('progress');\n",
              "      progress.max = size;\n",
              "      div.appendChild(progress);\n",
              "      document.body.appendChild(div);\n",
              "\n",
              "      const buffers = [];\n",
              "      let downloaded = 0;\n",
              "\n",
              "      const channel = await google.colab.kernel.comms.open(id);\n",
              "      // Send a message to notify the kernel that we're ready.\n",
              "      channel.send({})\n",
              "\n",
              "      for await (const message of channel.messages) {\n",
              "        // Send a message to notify the kernel that we're ready.\n",
              "        channel.send({})\n",
              "        if (message.buffers) {\n",
              "          for (const buffer of message.buffers) {\n",
              "            buffers.push(buffer);\n",
              "            downloaded += buffer.byteLength;\n",
              "            progress.value = downloaded;\n",
              "          }\n",
              "        }\n",
              "      }\n",
              "      const blob = new Blob(buffers, {type: 'application/binary'});\n",
              "      const a = document.createElement('a');\n",
              "      a.href = window.URL.createObjectURL(blob);\n",
              "      a.download = filename;\n",
              "      div.appendChild(a);\n",
              "      a.click();\n",
              "      div.remove();\n",
              "    }\n",
              "  "
            ]
          },
          "metadata": {}
        },
        {
          "output_type": "display_data",
          "data": {
            "text/plain": [
              "<IPython.core.display.Javascript object>"
            ],
            "application/javascript": [
              "download(\"download_1666b577-b0cb-43d2-9344-d856fc120051\", \"CrossVal_Data k=2 Centers.png\", 244407)"
            ]
          },
          "metadata": {}
        },
        {
          "output_type": "display_data",
          "data": {
            "text/plain": [
              "<IPython.core.display.Javascript object>"
            ],
            "application/javascript": [
              "\n",
              "    async function download(id, filename, size) {\n",
              "      if (!google.colab.kernel.accessAllowed) {\n",
              "        return;\n",
              "      }\n",
              "      const div = document.createElement('div');\n",
              "      const label = document.createElement('label');\n",
              "      label.textContent = `Downloading \"${filename}\": `;\n",
              "      div.appendChild(label);\n",
              "      const progress = document.createElement('progress');\n",
              "      progress.max = size;\n",
              "      div.appendChild(progress);\n",
              "      document.body.appendChild(div);\n",
              "\n",
              "      const buffers = [];\n",
              "      let downloaded = 0;\n",
              "\n",
              "      const channel = await google.colab.kernel.comms.open(id);\n",
              "      // Send a message to notify the kernel that we're ready.\n",
              "      channel.send({})\n",
              "\n",
              "      for await (const message of channel.messages) {\n",
              "        // Send a message to notify the kernel that we're ready.\n",
              "        channel.send({})\n",
              "        if (message.buffers) {\n",
              "          for (const buffer of message.buffers) {\n",
              "            buffers.push(buffer);\n",
              "            downloaded += buffer.byteLength;\n",
              "            progress.value = downloaded;\n",
              "          }\n",
              "        }\n",
              "      }\n",
              "      const blob = new Blob(buffers, {type: 'application/binary'});\n",
              "      const a = document.createElement('a');\n",
              "      a.href = window.URL.createObjectURL(blob);\n",
              "      a.download = filename;\n",
              "      div.appendChild(a);\n",
              "      a.click();\n",
              "      div.remove();\n",
              "    }\n",
              "  "
            ]
          },
          "metadata": {}
        },
        {
          "output_type": "display_data",
          "data": {
            "text/plain": [
              "<IPython.core.display.Javascript object>"
            ],
            "application/javascript": [
              "download(\"download_e8b61fb6-0ce8-4bde-b80c-1550423dbf26\", \"Normalized_Vals_split.png\", 116137)"
            ]
          },
          "metadata": {}
        },
        {
          "output_type": "display_data",
          "data": {
            "text/plain": [
              "<IPython.core.display.Javascript object>"
            ],
            "application/javascript": [
              "\n",
              "    async function download(id, filename, size) {\n",
              "      if (!google.colab.kernel.accessAllowed) {\n",
              "        return;\n",
              "      }\n",
              "      const div = document.createElement('div');\n",
              "      const label = document.createElement('label');\n",
              "      label.textContent = `Downloading \"${filename}\": `;\n",
              "      div.appendChild(label);\n",
              "      const progress = document.createElement('progress');\n",
              "      progress.max = size;\n",
              "      div.appendChild(progress);\n",
              "      document.body.appendChild(div);\n",
              "\n",
              "      const buffers = [];\n",
              "      let downloaded = 0;\n",
              "\n",
              "      const channel = await google.colab.kernel.comms.open(id);\n",
              "      // Send a message to notify the kernel that we're ready.\n",
              "      channel.send({})\n",
              "\n",
              "      for await (const message of channel.messages) {\n",
              "        // Send a message to notify the kernel that we're ready.\n",
              "        channel.send({})\n",
              "        if (message.buffers) {\n",
              "          for (const buffer of message.buffers) {\n",
              "            buffers.push(buffer);\n",
              "            downloaded += buffer.byteLength;\n",
              "            progress.value = downloaded;\n",
              "          }\n",
              "        }\n",
              "      }\n",
              "      const blob = new Blob(buffers, {type: 'application/binary'});\n",
              "      const a = document.createElement('a');\n",
              "      a.href = window.URL.createObjectURL(blob);\n",
              "      a.download = filename;\n",
              "      div.appendChild(a);\n",
              "      a.click();\n",
              "      div.remove();\n",
              "    }\n",
              "  "
            ]
          },
          "metadata": {}
        },
        {
          "output_type": "display_data",
          "data": {
            "text/plain": [
              "<IPython.core.display.Javascript object>"
            ],
            "application/javascript": [
              "download(\"download_2f5ff228-94b0-4069-82db-2cdf731e92d8\", \"Cells_in_Clusters.png\", 57788)"
            ]
          },
          "metadata": {}
        },
        {
          "output_type": "display_data",
          "data": {
            "text/plain": [
              "<IPython.core.display.Javascript object>"
            ],
            "application/javascript": [
              "\n",
              "    async function download(id, filename, size) {\n",
              "      if (!google.colab.kernel.accessAllowed) {\n",
              "        return;\n",
              "      }\n",
              "      const div = document.createElement('div');\n",
              "      const label = document.createElement('label');\n",
              "      label.textContent = `Downloading \"${filename}\": `;\n",
              "      div.appendChild(label);\n",
              "      const progress = document.createElement('progress');\n",
              "      progress.max = size;\n",
              "      div.appendChild(progress);\n",
              "      document.body.appendChild(div);\n",
              "\n",
              "      const buffers = [];\n",
              "      let downloaded = 0;\n",
              "\n",
              "      const channel = await google.colab.kernel.comms.open(id);\n",
              "      // Send a message to notify the kernel that we're ready.\n",
              "      channel.send({})\n",
              "\n",
              "      for await (const message of channel.messages) {\n",
              "        // Send a message to notify the kernel that we're ready.\n",
              "        channel.send({})\n",
              "        if (message.buffers) {\n",
              "          for (const buffer of message.buffers) {\n",
              "            buffers.push(buffer);\n",
              "            downloaded += buffer.byteLength;\n",
              "            progress.value = downloaded;\n",
              "          }\n",
              "        }\n",
              "      }\n",
              "      const blob = new Blob(buffers, {type: 'application/binary'});\n",
              "      const a = document.createElement('a');\n",
              "      a.href = window.URL.createObjectURL(blob);\n",
              "      a.download = filename;\n",
              "      div.appendChild(a);\n",
              "      a.click();\n",
              "      div.remove();\n",
              "    }\n",
              "  "
            ]
          },
          "metadata": {}
        },
        {
          "output_type": "display_data",
          "data": {
            "text/plain": [
              "<IPython.core.display.Javascript object>"
            ],
            "application/javascript": [
              "download(\"download_66533c62-40ce-49a8-8f67-d343c07812d1\", \"CrossVal_Data k=2 Labeling.png\", 165050)"
            ]
          },
          "metadata": {}
        },
        {
          "output_type": "display_data",
          "data": {
            "text/plain": [
              "<IPython.core.display.Javascript object>"
            ],
            "application/javascript": [
              "\n",
              "    async function download(id, filename, size) {\n",
              "      if (!google.colab.kernel.accessAllowed) {\n",
              "        return;\n",
              "      }\n",
              "      const div = document.createElement('div');\n",
              "      const label = document.createElement('label');\n",
              "      label.textContent = `Downloading \"${filename}\": `;\n",
              "      div.appendChild(label);\n",
              "      const progress = document.createElement('progress');\n",
              "      progress.max = size;\n",
              "      div.appendChild(progress);\n",
              "      document.body.appendChild(div);\n",
              "\n",
              "      const buffers = [];\n",
              "      let downloaded = 0;\n",
              "\n",
              "      const channel = await google.colab.kernel.comms.open(id);\n",
              "      // Send a message to notify the kernel that we're ready.\n",
              "      channel.send({})\n",
              "\n",
              "      for await (const message of channel.messages) {\n",
              "        // Send a message to notify the kernel that we're ready.\n",
              "        channel.send({})\n",
              "        if (message.buffers) {\n",
              "          for (const buffer of message.buffers) {\n",
              "            buffers.push(buffer);\n",
              "            downloaded += buffer.byteLength;\n",
              "            progress.value = downloaded;\n",
              "          }\n",
              "        }\n",
              "      }\n",
              "      const blob = new Blob(buffers, {type: 'application/binary'});\n",
              "      const a = document.createElement('a');\n",
              "      a.href = window.URL.createObjectURL(blob);\n",
              "      a.download = filename;\n",
              "      div.appendChild(a);\n",
              "      a.click();\n",
              "      div.remove();\n",
              "    }\n",
              "  "
            ]
          },
          "metadata": {}
        },
        {
          "output_type": "display_data",
          "data": {
            "text/plain": [
              "<IPython.core.display.Javascript object>"
            ],
            "application/javascript": [
              "download(\"download_8ffb7749-4dc2-49ca-a1c1-5e6b6dd1c039\", \"CrossVal_Data k=3 Labeling.png\", 203920)"
            ]
          },
          "metadata": {}
        },
        {
          "output_type": "display_data",
          "data": {
            "text/plain": [
              "<IPython.core.display.Javascript object>"
            ],
            "application/javascript": [
              "\n",
              "    async function download(id, filename, size) {\n",
              "      if (!google.colab.kernel.accessAllowed) {\n",
              "        return;\n",
              "      }\n",
              "      const div = document.createElement('div');\n",
              "      const label = document.createElement('label');\n",
              "      label.textContent = `Downloading \"${filename}\": `;\n",
              "      div.appendChild(label);\n",
              "      const progress = document.createElement('progress');\n",
              "      progress.max = size;\n",
              "      div.appendChild(progress);\n",
              "      document.body.appendChild(div);\n",
              "\n",
              "      const buffers = [];\n",
              "      let downloaded = 0;\n",
              "\n",
              "      const channel = await google.colab.kernel.comms.open(id);\n",
              "      // Send a message to notify the kernel that we're ready.\n",
              "      channel.send({})\n",
              "\n",
              "      for await (const message of channel.messages) {\n",
              "        // Send a message to notify the kernel that we're ready.\n",
              "        channel.send({})\n",
              "        if (message.buffers) {\n",
              "          for (const buffer of message.buffers) {\n",
              "            buffers.push(buffer);\n",
              "            downloaded += buffer.byteLength;\n",
              "            progress.value = downloaded;\n",
              "          }\n",
              "        }\n",
              "      }\n",
              "      const blob = new Blob(buffers, {type: 'application/binary'});\n",
              "      const a = document.createElement('a');\n",
              "      a.href = window.URL.createObjectURL(blob);\n",
              "      a.download = filename;\n",
              "      div.appendChild(a);\n",
              "      a.click();\n",
              "      div.remove();\n",
              "    }\n",
              "  "
            ]
          },
          "metadata": {}
        },
        {
          "output_type": "display_data",
          "data": {
            "text/plain": [
              "<IPython.core.display.Javascript object>"
            ],
            "application/javascript": [
              "download(\"download_2fe6dd18-b7a5-4ad8-9c1b-04a7d3680ae2\", \"GenoType_dist.png\", 245787)"
            ]
          },
          "metadata": {}
        },
        {
          "output_type": "display_data",
          "data": {
            "text/plain": [
              "<IPython.core.display.Javascript object>"
            ],
            "application/javascript": [
              "\n",
              "    async function download(id, filename, size) {\n",
              "      if (!google.colab.kernel.accessAllowed) {\n",
              "        return;\n",
              "      }\n",
              "      const div = document.createElement('div');\n",
              "      const label = document.createElement('label');\n",
              "      label.textContent = `Downloading \"${filename}\": `;\n",
              "      div.appendChild(label);\n",
              "      const progress = document.createElement('progress');\n",
              "      progress.max = size;\n",
              "      div.appendChild(progress);\n",
              "      document.body.appendChild(div);\n",
              "\n",
              "      const buffers = [];\n",
              "      let downloaded = 0;\n",
              "\n",
              "      const channel = await google.colab.kernel.comms.open(id);\n",
              "      // Send a message to notify the kernel that we're ready.\n",
              "      channel.send({})\n",
              "\n",
              "      for await (const message of channel.messages) {\n",
              "        // Send a message to notify the kernel that we're ready.\n",
              "        channel.send({})\n",
              "        if (message.buffers) {\n",
              "          for (const buffer of message.buffers) {\n",
              "            buffers.push(buffer);\n",
              "            downloaded += buffer.byteLength;\n",
              "            progress.value = downloaded;\n",
              "          }\n",
              "        }\n",
              "      }\n",
              "      const blob = new Blob(buffers, {type: 'application/binary'});\n",
              "      const a = document.createElement('a');\n",
              "      a.href = window.URL.createObjectURL(blob);\n",
              "      a.download = filename;\n",
              "      div.appendChild(a);\n",
              "      a.click();\n",
              "      div.remove();\n",
              "    }\n",
              "  "
            ]
          },
          "metadata": {}
        },
        {
          "output_type": "display_data",
          "data": {
            "text/plain": [
              "<IPython.core.display.Javascript object>"
            ],
            "application/javascript": [
              "download(\"download_0d4c95a9-406c-40f7-8375-54a2f6dfa3a4\", \"GenoType_Histos.png\", 124668)"
            ]
          },
          "metadata": {}
        },
        {
          "output_type": "display_data",
          "data": {
            "text/plain": [
              "<IPython.core.display.Javascript object>"
            ],
            "application/javascript": [
              "\n",
              "    async function download(id, filename, size) {\n",
              "      if (!google.colab.kernel.accessAllowed) {\n",
              "        return;\n",
              "      }\n",
              "      const div = document.createElement('div');\n",
              "      const label = document.createElement('label');\n",
              "      label.textContent = `Downloading \"${filename}\": `;\n",
              "      div.appendChild(label);\n",
              "      const progress = document.createElement('progress');\n",
              "      progress.max = size;\n",
              "      div.appendChild(progress);\n",
              "      document.body.appendChild(div);\n",
              "\n",
              "      const buffers = [];\n",
              "      let downloaded = 0;\n",
              "\n",
              "      const channel = await google.colab.kernel.comms.open(id);\n",
              "      // Send a message to notify the kernel that we're ready.\n",
              "      channel.send({})\n",
              "\n",
              "      for await (const message of channel.messages) {\n",
              "        // Send a message to notify the kernel that we're ready.\n",
              "        channel.send({})\n",
              "        if (message.buffers) {\n",
              "          for (const buffer of message.buffers) {\n",
              "            buffers.push(buffer);\n",
              "            downloaded += buffer.byteLength;\n",
              "            progress.value = downloaded;\n",
              "          }\n",
              "        }\n",
              "      }\n",
              "      const blob = new Blob(buffers, {type: 'application/binary'});\n",
              "      const a = document.createElement('a');\n",
              "      a.href = window.URL.createObjectURL(blob);\n",
              "      a.download = filename;\n",
              "      div.appendChild(a);\n",
              "      a.click();\n",
              "      div.remove();\n",
              "    }\n",
              "  "
            ]
          },
          "metadata": {}
        },
        {
          "output_type": "display_data",
          "data": {
            "text/plain": [
              "<IPython.core.display.Javascript object>"
            ],
            "application/javascript": [
              "download(\"download_e0abffa3-b16b-4b4e-af53-2d24a82f9424\", \"GenoType_dist_Separate.png\", 316803)"
            ]
          },
          "metadata": {}
        },
        {
          "output_type": "display_data",
          "data": {
            "text/plain": [
              "<IPython.core.display.Javascript object>"
            ],
            "application/javascript": [
              "\n",
              "    async function download(id, filename, size) {\n",
              "      if (!google.colab.kernel.accessAllowed) {\n",
              "        return;\n",
              "      }\n",
              "      const div = document.createElement('div');\n",
              "      const label = document.createElement('label');\n",
              "      label.textContent = `Downloading \"${filename}\": `;\n",
              "      div.appendChild(label);\n",
              "      const progress = document.createElement('progress');\n",
              "      progress.max = size;\n",
              "      div.appendChild(progress);\n",
              "      document.body.appendChild(div);\n",
              "\n",
              "      const buffers = [];\n",
              "      let downloaded = 0;\n",
              "\n",
              "      const channel = await google.colab.kernel.comms.open(id);\n",
              "      // Send a message to notify the kernel that we're ready.\n",
              "      channel.send({})\n",
              "\n",
              "      for await (const message of channel.messages) {\n",
              "        // Send a message to notify the kernel that we're ready.\n",
              "        channel.send({})\n",
              "        if (message.buffers) {\n",
              "          for (const buffer of message.buffers) {\n",
              "            buffers.push(buffer);\n",
              "            downloaded += buffer.byteLength;\n",
              "            progress.value = downloaded;\n",
              "          }\n",
              "        }\n",
              "      }\n",
              "      const blob = new Blob(buffers, {type: 'application/binary'});\n",
              "      const a = document.createElement('a');\n",
              "      a.href = window.URL.createObjectURL(blob);\n",
              "      a.download = filename;\n",
              "      div.appendChild(a);\n",
              "      a.click();\n",
              "      div.remove();\n",
              "    }\n",
              "  "
            ]
          },
          "metadata": {}
        },
        {
          "output_type": "display_data",
          "data": {
            "text/plain": [
              "<IPython.core.display.Javascript object>"
            ],
            "application/javascript": [
              "download(\"download_d49521ba-cdcb-4412-a441-6b30a2909f85\", \"Clusters.png\", 181848)"
            ]
          },
          "metadata": {}
        },
        {
          "output_type": "display_data",
          "data": {
            "text/plain": [
              "<IPython.core.display.Javascript object>"
            ],
            "application/javascript": [
              "\n",
              "    async function download(id, filename, size) {\n",
              "      if (!google.colab.kernel.accessAllowed) {\n",
              "        return;\n",
              "      }\n",
              "      const div = document.createElement('div');\n",
              "      const label = document.createElement('label');\n",
              "      label.textContent = `Downloading \"${filename}\": `;\n",
              "      div.appendChild(label);\n",
              "      const progress = document.createElement('progress');\n",
              "      progress.max = size;\n",
              "      div.appendChild(progress);\n",
              "      document.body.appendChild(div);\n",
              "\n",
              "      const buffers = [];\n",
              "      let downloaded = 0;\n",
              "\n",
              "      const channel = await google.colab.kernel.comms.open(id);\n",
              "      // Send a message to notify the kernel that we're ready.\n",
              "      channel.send({})\n",
              "\n",
              "      for await (const message of channel.messages) {\n",
              "        // Send a message to notify the kernel that we're ready.\n",
              "        channel.send({})\n",
              "        if (message.buffers) {\n",
              "          for (const buffer of message.buffers) {\n",
              "            buffers.push(buffer);\n",
              "            downloaded += buffer.byteLength;\n",
              "            progress.value = downloaded;\n",
              "          }\n",
              "        }\n",
              "      }\n",
              "      const blob = new Blob(buffers, {type: 'application/binary'});\n",
              "      const a = document.createElement('a');\n",
              "      a.href = window.URL.createObjectURL(blob);\n",
              "      a.download = filename;\n",
              "      div.appendChild(a);\n",
              "      a.click();\n",
              "      div.remove();\n",
              "    }\n",
              "  "
            ]
          },
          "metadata": {}
        },
        {
          "output_type": "display_data",
          "data": {
            "text/plain": [
              "<IPython.core.display.Javascript object>"
            ],
            "application/javascript": [
              "download(\"download_ce4c10b1-fa31-424a-8c74-a8cefe91c115\", \"pairwise Age-Genotype.csv\", 385)"
            ]
          },
          "metadata": {}
        },
        {
          "output_type": "display_data",
          "data": {
            "text/plain": [
              "<IPython.core.display.Javascript object>"
            ],
            "application/javascript": [
              "\n",
              "    async function download(id, filename, size) {\n",
              "      if (!google.colab.kernel.accessAllowed) {\n",
              "        return;\n",
              "      }\n",
              "      const div = document.createElement('div');\n",
              "      const label = document.createElement('label');\n",
              "      label.textContent = `Downloading \"${filename}\": `;\n",
              "      div.appendChild(label);\n",
              "      const progress = document.createElement('progress');\n",
              "      progress.max = size;\n",
              "      div.appendChild(progress);\n",
              "      document.body.appendChild(div);\n",
              "\n",
              "      const buffers = [];\n",
              "      let downloaded = 0;\n",
              "\n",
              "      const channel = await google.colab.kernel.comms.open(id);\n",
              "      // Send a message to notify the kernel that we're ready.\n",
              "      channel.send({})\n",
              "\n",
              "      for await (const message of channel.messages) {\n",
              "        // Send a message to notify the kernel that we're ready.\n",
              "        channel.send({})\n",
              "        if (message.buffers) {\n",
              "          for (const buffer of message.buffers) {\n",
              "            buffers.push(buffer);\n",
              "            downloaded += buffer.byteLength;\n",
              "            progress.value = downloaded;\n",
              "          }\n",
              "        }\n",
              "      }\n",
              "      const blob = new Blob(buffers, {type: 'application/binary'});\n",
              "      const a = document.createElement('a');\n",
              "      a.href = window.URL.createObjectURL(blob);\n",
              "      a.download = filename;\n",
              "      div.appendChild(a);\n",
              "      a.click();\n",
              "      div.remove();\n",
              "    }\n",
              "  "
            ]
          },
          "metadata": {}
        },
        {
          "output_type": "display_data",
          "data": {
            "text/plain": [
              "<IPython.core.display.Javascript object>"
            ],
            "application/javascript": [
              "download(\"download_cd361665-b984-404c-a454-bffdfb195941\", \"CrossVal_Data k=3 Centers.png\", 256657)"
            ]
          },
          "metadata": {}
        },
        {
          "output_type": "display_data",
          "data": {
            "text/plain": [
              "<IPython.core.display.Javascript object>"
            ],
            "application/javascript": [
              "\n",
              "    async function download(id, filename, size) {\n",
              "      if (!google.colab.kernel.accessAllowed) {\n",
              "        return;\n",
              "      }\n",
              "      const div = document.createElement('div');\n",
              "      const label = document.createElement('label');\n",
              "      label.textContent = `Downloading \"${filename}\": `;\n",
              "      div.appendChild(label);\n",
              "      const progress = document.createElement('progress');\n",
              "      progress.max = size;\n",
              "      div.appendChild(progress);\n",
              "      document.body.appendChild(div);\n",
              "\n",
              "      const buffers = [];\n",
              "      let downloaded = 0;\n",
              "\n",
              "      const channel = await google.colab.kernel.comms.open(id);\n",
              "      // Send a message to notify the kernel that we're ready.\n",
              "      channel.send({})\n",
              "\n",
              "      for await (const message of channel.messages) {\n",
              "        // Send a message to notify the kernel that we're ready.\n",
              "        channel.send({})\n",
              "        if (message.buffers) {\n",
              "          for (const buffer of message.buffers) {\n",
              "            buffers.push(buffer);\n",
              "            downloaded += buffer.byteLength;\n",
              "            progress.value = downloaded;\n",
              "          }\n",
              "        }\n",
              "      }\n",
              "      const blob = new Blob(buffers, {type: 'application/binary'});\n",
              "      const a = document.createElement('a');\n",
              "      a.href = window.URL.createObjectURL(blob);\n",
              "      a.download = filename;\n",
              "      div.appendChild(a);\n",
              "      a.click();\n",
              "      div.remove();\n",
              "    }\n",
              "  "
            ]
          },
          "metadata": {}
        },
        {
          "output_type": "display_data",
          "data": {
            "text/plain": [
              "<IPython.core.display.Javascript object>"
            ],
            "application/javascript": [
              "download(\"download_b2593eda-1705-495d-9fb1-a3d4afd0e518\", \"Normalized_Vals_split.png\", 108736)"
            ]
          },
          "metadata": {}
        },
        {
          "output_type": "display_data",
          "data": {
            "text/plain": [
              "<IPython.core.display.Javascript object>"
            ],
            "application/javascript": [
              "\n",
              "    async function download(id, filename, size) {\n",
              "      if (!google.colab.kernel.accessAllowed) {\n",
              "        return;\n",
              "      }\n",
              "      const div = document.createElement('div');\n",
              "      const label = document.createElement('label');\n",
              "      label.textContent = `Downloading \"${filename}\": `;\n",
              "      div.appendChild(label);\n",
              "      const progress = document.createElement('progress');\n",
              "      progress.max = size;\n",
              "      div.appendChild(progress);\n",
              "      document.body.appendChild(div);\n",
              "\n",
              "      const buffers = [];\n",
              "      let downloaded = 0;\n",
              "\n",
              "      const channel = await google.colab.kernel.comms.open(id);\n",
              "      // Send a message to notify the kernel that we're ready.\n",
              "      channel.send({})\n",
              "\n",
              "      for await (const message of channel.messages) {\n",
              "        // Send a message to notify the kernel that we're ready.\n",
              "        channel.send({})\n",
              "        if (message.buffers) {\n",
              "          for (const buffer of message.buffers) {\n",
              "            buffers.push(buffer);\n",
              "            downloaded += buffer.byteLength;\n",
              "            progress.value = downloaded;\n",
              "          }\n",
              "        }\n",
              "      }\n",
              "      const blob = new Blob(buffers, {type: 'application/binary'});\n",
              "      const a = document.createElement('a');\n",
              "      a.href = window.URL.createObjectURL(blob);\n",
              "      a.download = filename;\n",
              "      div.appendChild(a);\n",
              "      a.click();\n",
              "      div.remove();\n",
              "    }\n",
              "  "
            ]
          },
          "metadata": {}
        },
        {
          "output_type": "display_data",
          "data": {
            "text/plain": [
              "<IPython.core.display.Javascript object>"
            ],
            "application/javascript": [
              "download(\"download_90be2dd8-cb29-4c6a-b6a3-a7e70858e259\", \"Cells_in_Clusters.png\", 43925)"
            ]
          },
          "metadata": {}
        },
        {
          "output_type": "display_data",
          "data": {
            "text/plain": [
              "<IPython.core.display.Javascript object>"
            ],
            "application/javascript": [
              "\n",
              "    async function download(id, filename, size) {\n",
              "      if (!google.colab.kernel.accessAllowed) {\n",
              "        return;\n",
              "      }\n",
              "      const div = document.createElement('div');\n",
              "      const label = document.createElement('label');\n",
              "      label.textContent = `Downloading \"${filename}\": `;\n",
              "      div.appendChild(label);\n",
              "      const progress = document.createElement('progress');\n",
              "      progress.max = size;\n",
              "      div.appendChild(progress);\n",
              "      document.body.appendChild(div);\n",
              "\n",
              "      const buffers = [];\n",
              "      let downloaded = 0;\n",
              "\n",
              "      const channel = await google.colab.kernel.comms.open(id);\n",
              "      // Send a message to notify the kernel that we're ready.\n",
              "      channel.send({})\n",
              "\n",
              "      for await (const message of channel.messages) {\n",
              "        // Send a message to notify the kernel that we're ready.\n",
              "        channel.send({})\n",
              "        if (message.buffers) {\n",
              "          for (const buffer of message.buffers) {\n",
              "            buffers.push(buffer);\n",
              "            downloaded += buffer.byteLength;\n",
              "            progress.value = downloaded;\n",
              "          }\n",
              "        }\n",
              "      }\n",
              "      const blob = new Blob(buffers, {type: 'application/binary'});\n",
              "      const a = document.createElement('a');\n",
              "      a.href = window.URL.createObjectURL(blob);\n",
              "      a.download = filename;\n",
              "      div.appendChild(a);\n",
              "      a.click();\n",
              "      div.remove();\n",
              "    }\n",
              "  "
            ]
          },
          "metadata": {}
        },
        {
          "output_type": "display_data",
          "data": {
            "text/plain": [
              "<IPython.core.display.Javascript object>"
            ],
            "application/javascript": [
              "download(\"download_bddb7158-d748-42f4-8113-01ec8ed44c4d\", \"CrossVal_Data k=2 Labeling.png\", 144816)"
            ]
          },
          "metadata": {}
        },
        {
          "output_type": "display_data",
          "data": {
            "text/plain": [
              "<IPython.core.display.Javascript object>"
            ],
            "application/javascript": [
              "\n",
              "    async function download(id, filename, size) {\n",
              "      if (!google.colab.kernel.accessAllowed) {\n",
              "        return;\n",
              "      }\n",
              "      const div = document.createElement('div');\n",
              "      const label = document.createElement('label');\n",
              "      label.textContent = `Downloading \"${filename}\": `;\n",
              "      div.appendChild(label);\n",
              "      const progress = document.createElement('progress');\n",
              "      progress.max = size;\n",
              "      div.appendChild(progress);\n",
              "      document.body.appendChild(div);\n",
              "\n",
              "      const buffers = [];\n",
              "      let downloaded = 0;\n",
              "\n",
              "      const channel = await google.colab.kernel.comms.open(id);\n",
              "      // Send a message to notify the kernel that we're ready.\n",
              "      channel.send({})\n",
              "\n",
              "      for await (const message of channel.messages) {\n",
              "        // Send a message to notify the kernel that we're ready.\n",
              "        channel.send({})\n",
              "        if (message.buffers) {\n",
              "          for (const buffer of message.buffers) {\n",
              "            buffers.push(buffer);\n",
              "            downloaded += buffer.byteLength;\n",
              "            progress.value = downloaded;\n",
              "          }\n",
              "        }\n",
              "      }\n",
              "      const blob = new Blob(buffers, {type: 'application/binary'});\n",
              "      const a = document.createElement('a');\n",
              "      a.href = window.URL.createObjectURL(blob);\n",
              "      a.download = filename;\n",
              "      div.appendChild(a);\n",
              "      a.click();\n",
              "      div.remove();\n",
              "    }\n",
              "  "
            ]
          },
          "metadata": {}
        },
        {
          "output_type": "display_data",
          "data": {
            "text/plain": [
              "<IPython.core.display.Javascript object>"
            ],
            "application/javascript": [
              "download(\"download_f36e3983-f0f6-4fce-a6fe-4c8b74e8644c\", \"CrossVal_Data k=3 Labeling.png\", 179412)"
            ]
          },
          "metadata": {}
        },
        {
          "output_type": "display_data",
          "data": {
            "text/plain": [
              "<IPython.core.display.Javascript object>"
            ],
            "application/javascript": [
              "\n",
              "    async function download(id, filename, size) {\n",
              "      if (!google.colab.kernel.accessAllowed) {\n",
              "        return;\n",
              "      }\n",
              "      const div = document.createElement('div');\n",
              "      const label = document.createElement('label');\n",
              "      label.textContent = `Downloading \"${filename}\": `;\n",
              "      div.appendChild(label);\n",
              "      const progress = document.createElement('progress');\n",
              "      progress.max = size;\n",
              "      div.appendChild(progress);\n",
              "      document.body.appendChild(div);\n",
              "\n",
              "      const buffers = [];\n",
              "      let downloaded = 0;\n",
              "\n",
              "      const channel = await google.colab.kernel.comms.open(id);\n",
              "      // Send a message to notify the kernel that we're ready.\n",
              "      channel.send({})\n",
              "\n",
              "      for await (const message of channel.messages) {\n",
              "        // Send a message to notify the kernel that we're ready.\n",
              "        channel.send({})\n",
              "        if (message.buffers) {\n",
              "          for (const buffer of message.buffers) {\n",
              "            buffers.push(buffer);\n",
              "            downloaded += buffer.byteLength;\n",
              "            progress.value = downloaded;\n",
              "          }\n",
              "        }\n",
              "      }\n",
              "      const blob = new Blob(buffers, {type: 'application/binary'});\n",
              "      const a = document.createElement('a');\n",
              "      a.href = window.URL.createObjectURL(blob);\n",
              "      a.download = filename;\n",
              "      div.appendChild(a);\n",
              "      a.click();\n",
              "      div.remove();\n",
              "    }\n",
              "  "
            ]
          },
          "metadata": {}
        },
        {
          "output_type": "display_data",
          "data": {
            "text/plain": [
              "<IPython.core.display.Javascript object>"
            ],
            "application/javascript": [
              "download(\"download_7638c4e9-3f89-4105-a21b-d3f0dae54f6e\", \"GenoType_dist.png\", 193067)"
            ]
          },
          "metadata": {}
        },
        {
          "output_type": "display_data",
          "data": {
            "text/plain": [
              "<IPython.core.display.Javascript object>"
            ],
            "application/javascript": [
              "\n",
              "    async function download(id, filename, size) {\n",
              "      if (!google.colab.kernel.accessAllowed) {\n",
              "        return;\n",
              "      }\n",
              "      const div = document.createElement('div');\n",
              "      const label = document.createElement('label');\n",
              "      label.textContent = `Downloading \"${filename}\": `;\n",
              "      div.appendChild(label);\n",
              "      const progress = document.createElement('progress');\n",
              "      progress.max = size;\n",
              "      div.appendChild(progress);\n",
              "      document.body.appendChild(div);\n",
              "\n",
              "      const buffers = [];\n",
              "      let downloaded = 0;\n",
              "\n",
              "      const channel = await google.colab.kernel.comms.open(id);\n",
              "      // Send a message to notify the kernel that we're ready.\n",
              "      channel.send({})\n",
              "\n",
              "      for await (const message of channel.messages) {\n",
              "        // Send a message to notify the kernel that we're ready.\n",
              "        channel.send({})\n",
              "        if (message.buffers) {\n",
              "          for (const buffer of message.buffers) {\n",
              "            buffers.push(buffer);\n",
              "            downloaded += buffer.byteLength;\n",
              "            progress.value = downloaded;\n",
              "          }\n",
              "        }\n",
              "      }\n",
              "      const blob = new Blob(buffers, {type: 'application/binary'});\n",
              "      const a = document.createElement('a');\n",
              "      a.href = window.URL.createObjectURL(blob);\n",
              "      a.download = filename;\n",
              "      div.appendChild(a);\n",
              "      a.click();\n",
              "      div.remove();\n",
              "    }\n",
              "  "
            ]
          },
          "metadata": {}
        },
        {
          "output_type": "display_data",
          "data": {
            "text/plain": [
              "<IPython.core.display.Javascript object>"
            ],
            "application/javascript": [
              "download(\"download_86ea198f-7a57-42c0-98b7-c45055868d61\", \"GenoType_Histos.png\", 109262)"
            ]
          },
          "metadata": {}
        }
      ]
    },
    {
      "cell_type": "code",
      "source": [
        "# SubSampleFrac = .8\n",
        "# # data_for_fit, uniq_types,\n",
        "# num_iter = 100\n",
        "# center_list = []\n",
        "# label_list = []\n",
        "# sub_sample_ind_list = []\n",
        "# k =4 \n",
        "# cmap = plt.cm.viridis(np.linspace(0,1,k))\n",
        "\n",
        "# fig, ax = plt.subplots(1)\n",
        "# for ni in range(num_iter):\n",
        "#     sub_sample_ind = []\n",
        "#     for t in uniq_types:\n",
        "#         t_inds = [i for i in range(len(type_list)) if t in type_list[i]]\n",
        "#         # print(t_inds)\n",
        "#         sub_sample_ind.extend( sample(t_inds, int(len(t_inds)*SubSampleFrac) ) )\n",
        "#     sub_x = data_for_fit[sub_sample_ind]\n",
        "#     kmeans_iter = KMeans(n_clusters=k, random_state=42).fit(data_for_fit[sub_sample_ind][:,new_cent_order])\n",
        "#     centers_iter = kmeans_iter.cluster_centers_.T\n",
        "#     centers_iter = centers_iter - np.mean(centers_iter,axis=0)\n",
        "#     labels_iter = kmeans_iter.labels_\n",
        "\n",
        "#     if ni>0:\n",
        "#         corco = np.corrcoef(centers_iter.T,center_list[0].T)\n",
        "#         corco = corco[0:k,k:]\n",
        "#         ind = np.argmax(corco,axis=0) \n",
        "#         centers_iter = centers_iter[:,ind]\n",
        "#         labels_iter = [ind[l] for l in labels_iter]\n",
        "#     for ki in range(k):\n",
        "#         ax.plot(centers_iter[:,ki],'-o',color=cmap[ki])\n",
        "    \n",
        "#     center_list.append(centers_iter)\n",
        "#     label_list.append(labels_iter)\n",
        "#     sub_sample_ind_list.append(sub_sample_ind_list)\n",
        "\n",
        "# ax.set_xticks(np.arange(len(numericals)))\n",
        "# ax.set_xticklabels(sorted_numericals,rotation=90)\n",
        "# plt.show()\n",
        "\n",
        "# label_stack = np.stack(label_list)\n",
        "# type_one_counts = np.sum(label_stack==0,axis = 1)/label_stack.shape[1]\n",
        "# type_two_counts = np.sum(label_stack==1,axis = 1)/label_stack.shape[1]\n",
        "# type_three_counts = np.sum(label_stack==2,axis = 1)/label_stack.shape[1]\n",
        "\n",
        "# type_counts = [np.sum( np.sum(label_stack==ki,axis = 1) )/label_stack.shape[1] for ki in range(k)]\n",
        "# type_means = [np.mean(type_counts[ki]) for ki in range(k)]\n",
        "# type_stds = [np.std(type_counts[ki]) for ki in range(k)]\n",
        "\n",
        "# fig, ax = plt.subplots()\n",
        "\n",
        "# ax.pie(type_means,labels=type_stds, autopct='%1.1f%%')\n",
        "# plt.show()"
      ],
      "metadata": {
        "id": "mebk3gXuEWwT"
      },
      "execution_count": null,
      "outputs": []
    },
    {
      "cell_type": "code",
      "source": [
        "\n",
        "# ####################################  TSNE ###############################################\n",
        "# from sklearn.manifold import TSNE\n",
        "\n",
        "# fig, axs = plt.subplots(2,3, figsize=[18,12])\n",
        "# axs = axs.flatten()\n",
        "# perp_list = [2, 5, 10 , 50, 100, 300]\n",
        "# for p in perp_list:\n",
        "#     p_i = perp_list.index(p)\n",
        "#     X_embedded  = TSNE(n_components=2, learning_rate='auto', init='random', perplexity=p,n_iter=1000).fit_transform(data_X)\n",
        "#     for ti in range(num_t):\n",
        "#         t = uniq_types[ti]\n",
        "#         t_colr = colors[ti]\n",
        "#         is_type = [ind for ind in range(len(type_num)) if type_num[ind]==ti]\n",
        "#         axs[p_i].scatter(X_embedded[is_type,0],X_embedded[is_type,1],color=t_colr, label=t)\n",
        "#         axs[p_i].legend( loc='upper left', ncol=1)\n",
        "#     axs[p_i].set_title = p\n",
        "# plt.show()"
      ],
      "metadata": {
        "id": "kGQHJlg7MHTk"
      },
      "execution_count": null,
      "outputs": []
    },
    {
      "cell_type": "code",
      "source": [
        "\n",
        "# ####################################  UMAP ###############################################\n",
        "# import umap\n",
        "\n",
        "# u_embedding = umap.UMAP(random_state=42).fit_transform(data_X)\n",
        "# fig, axs = plt.subplots(1)\n",
        "# n_list = [2, 5, 10, 30, 50, 100]\n",
        "# for ni in range(len(n_list)):\n",
        "#     t = uniq_types[ni]\n",
        "#     t_colr = colors[ni]\n",
        "#     is_type = [ind for ind in range(len(type_num)) if type_num[ind]==ni]\n",
        "#     axs.scatter(u_embedding[is_type,0],u_embedding[is_type,1],color=t_colr, label=t)\n",
        "# axs.legend(bbox_to_anchor=(1.5, 1), loc='upper right', ncol=1)\n",
        "# plt.show()\n",
        "\n",
        "\n",
        "\n",
        "\n",
        "# u_embs = {}\n",
        "# for n in n_list:\n",
        "#     u_embs[n] = umap.UMAP(n_neighbors=n,random_state=42).fit_transform(data_X)\n",
        "\n",
        "\n",
        "\n",
        "# fig, axs = plt.subplots(2,3,figsize=[18,12])\n",
        "# axs = axs.flatten()\n",
        "# for n in n_list:\n",
        "#     i = n_list.index(n)\n",
        "#     # axs[i].scatter(u_embs[n][:,0], u_embs[n][:,1],color=list_colors)\n",
        "#     for ti in range(num_t):\n",
        "#         t = uniq_types[ti]\n",
        "#         t_colr = colors[ti]\n",
        "#         is_type = [ind for ind in range(len(type_num)) if type_num[ind]==ti]\n",
        "#         axs[i].scatter(u_embs[n][is_type,0],u_embs[n][is_type,1],color=t_colr, label=t)\n",
        "#     axs[i].legend(bbox_to_anchor=(1.5, 1), loc='upper right', ncol=1)\n",
        "# plt.show()\n",
        "# print(uniq_types)\n"
      ],
      "metadata": {
        "id": "mDsFwVDfWC7t"
      },
      "execution_count": null,
      "outputs": []
    }
  ]
}